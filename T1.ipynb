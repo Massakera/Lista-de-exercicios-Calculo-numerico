{
 "cells": [
  {
   "cell_type": "markdown",
   "metadata": {
    "id": "sXcjl19L74Xx"
   },
   "source": [
    "# Trabalho T1 sobre Erros e Zeros de Funções\n",
    "## Métodos Numéricos Computacionais/Cálculo Numérico\n",
    "## UFSM - 2º Semestre de 2020\n"
   ]
  },
  {
   "cell_type": "markdown",
   "metadata": {
    "id": "C-k-9LdIEkaI"
   },
   "source": [
    "### Nomes dos integrantes do grupo: Enzo Massaki Ito, Juan Silva Fervenza, Odete Lara Melo Budtinger\n"
   ]
  },
  {
   "cell_type": "markdown",
   "metadata": {
    "id": "It3M9TNF74Xx"
   },
   "source": [
    "$\\textbf{Questão 1}$\n",
    "\n",
    "\n",
    "Pesquise e responda:\n",
    "- O que é o ``Épsilon da Máquina''? Apresente um programa em python para obter o épsilon do computador que você usa. Qual o valor obtido com seu programa?  \n",
    "\n",
    "- Qual é o maior número real positivo que seu computador consegue representar? E o menor positivo?\n",
    "\n",
    "- Quantos números reais seu computados consegue representar com exatidão?"
   ]
  },
  {
   "cell_type": "markdown",
   "metadata": {
    "id": "hV5nQfgr74Xx"
   },
   "source": [
    "* Como não conseguimos representar todos os números reais em um computador, por \n",
    "sua limitação, ocorrem arredondamentos. Definimos como épsilon da máquina o menor número de forma que $1+\\varepsilon$ seja o menor número representável pela máquina maior que , ou seja, não existe nenhum $x\\in (1,1+\\varepsilon)$ onde $x$ será representavél por ela.\n",
    "\n",
    "Para calcular o épsilon da máquina podemos usar o seguinte algoritmo:"
   ]
  },
  {
   "cell_type": "code",
   "execution_count": null,
   "metadata": {
    "colab": {
     "base_uri": "https://localhost:8080/"
    },
    "id": "9tmRWrFm74Xy",
    "outputId": "40aebaaf-d634-4ac6-cb52-2a6d1f2babc6"
   },
   "outputs": [
    {
     "name": "stdout",
     "output_type": "stream",
     "text": [
      "O épsilon da máquina é dado por 2.220446049250313e-16 .\n"
     ]
    }
   ],
   "source": [
    "import sys  \n",
    "print(\"O épsilon da máquina é dado por\",sys.float_info.epsilon,\".\" )"
   ]
  },
  {
   "cell_type": "markdown",
   "metadata": {
    "id": "7toPlshH74X0"
   },
   "source": [
    "* Podemos calcular qual o menor e o maior número real positivo que conseguimos representar com a máquina:"
   ]
  },
  {
   "cell_type": "code",
   "execution_count": null,
   "metadata": {
    "colab": {
     "base_uri": "https://localhost:8080/"
    },
    "id": "lvstFzIa74X0",
    "outputId": "2127af97-ebb8-4405-b479-5a667dc17e3b"
   },
   "outputs": [
    {
     "name": "stdout",
     "output_type": "stream",
     "text": [
      "O maior número representável é  1.7976931348623157e+308 .\n"
     ]
    }
   ],
   "source": [
    "import sys  \n",
    "print(\"O maior número representável é \",sys.float_info.max, \".\" ) "
   ]
  },
  {
   "cell_type": "code",
   "execution_count": null,
   "metadata": {
    "colab": {
     "base_uri": "https://localhost:8080/"
    },
    "id": "lt8cVqdj74X0",
    "outputId": "583ae9e9-fd18-4ae6-e818-07f6638f1fd0"
   },
   "outputs": [
    {
     "name": "stdout",
     "output_type": "stream",
     "text": [
      "O menor número representável é  2.2250738585072014e-308 .\n"
     ]
    }
   ],
   "source": [
    "print(\"O menor número representável é \",sys.float_info.min, \".\" )"
   ]
  },
  {
   "cell_type": "markdown",
   "metadata": {
    "id": "FUfWIA9t74X0"
   },
   "source": [
    "$\\textbf{Questão 2}$\n",
    "\n",
    "\n",
    "Considere as expressões $\\frac{e^{1/x}}{1+e^{1/x}}$ e  $\\frac{1}{e^{-1/x}+1}$. Verifique que, para $x>0$, são funções idênticas, então, use um programa em Python para testar o valor de cada uma para alguns valores de $x$ entre $0.1$ e $0.001$. Qual dessas expressões é mais adequada quando $x$ é um número pequeno? Explique. \n"
   ]
  },
  {
   "cell_type": "markdown",
   "metadata": {
    "id": "OaGMMuI474X0"
   },
   "source": [
    "Suponha que $x>0$. Observe que \n",
    "\n",
    "$$\\dfrac{e^{\\frac{1}{x}}}{1+e^{\\frac{1}{x}}}=\\dfrac{1}{\\frac{1+e^{\\frac{1}{x}}}{e^{\\frac{1}{x}}}}=\\dfrac{1}{\\frac{1}{e^{\\frac{1}{x}}}+\\frac{e^{\\frac{1}{x}}}{e^{\\frac{1}{x}}}}=\\dfrac{1}{e^{\\frac{-1}{x}}+1}.$$\n",
    "\n",
    "Logo as funções são idênticas.\n"
   ]
  },
  {
   "cell_type": "markdown",
   "metadata": {
    "id": "0nEgR9HZ74X0"
   },
   "source": [
    "Para $\\dfrac{e^{\\frac{1}{x}}}{1+e^{\\frac{1}{x}}}$ podemos calcular alguns valores da função para $x\\in (0.001, 0.1)$ da seguinte forma:"
   ]
  },
  {
   "cell_type": "code",
   "execution_count": null,
   "metadata": {
    "colab": {
     "base_uri": "https://localhost:8080/"
    },
    "id": "38FeU5FQ74X0",
    "outputId": "68032b0e-85f4-4b60-e4a2-574dc551b8b2"
   },
   "outputs": [
    {
     "name": "stdout",
     "output_type": "stream",
     "text": [
      "[       nan 1.         1.         1.         1.         1.\n",
      " 1.         1.         1.         1.         1.         1.\n",
      " 1.         1.         1.         1.         1.         1.\n",
      " 1.         1.         1.         1.         1.         1.\n",
      " 1.         1.         1.         1.         1.         1.\n",
      " 1.         1.         1.         1.         1.         1.\n",
      " 1.         1.         1.         1.         1.         1.\n",
      " 1.         1.         1.         1.         1.         1.\n",
      " 1.         1.         1.         1.         0.99999999 0.99999999\n",
      " 0.99999999 0.99999998 0.99999998 0.99999997 0.99999996 0.99999994\n",
      " 0.99999992 0.9999999  0.99999987 0.99999984 0.99999979 0.99999974\n",
      " 0.99999967 0.99999959 0.99999949 0.99999938 0.99999924 0.99999907\n",
      " 0.99999888 0.99999865 0.99999838 0.99999807 0.99999771 0.9999973\n",
      " 0.99999682 0.99999627 0.99999565 0.99999494 0.99999414 0.99999324\n",
      " 0.99999223 0.99999109 0.99998981 0.99998839 0.99998681 0.99998505\n",
      " 0.99998311 0.99998097 0.99997861 0.99997602 0.99997318 0.99997007\n",
      " 0.99996668 0.99996298 0.99995896]\n"
     ]
    },
    {
     "name": "stderr",
     "output_type": "stream",
     "text": [
      "/usr/local/lib/python3.6/dist-packages/ipykernel_launcher.py:4: RuntimeWarning: overflow encountered in power\n",
      "  after removing the cwd from sys.path.\n",
      "/usr/local/lib/python3.6/dist-packages/ipykernel_launcher.py:4: RuntimeWarning: invalid value encountered in true_divide\n",
      "  after removing the cwd from sys.path.\n"
     ]
    }
   ],
   "source": [
    "from math import e\n",
    "import numpy as np\n",
    "def f1(x):\n",
    "    return e**(1/x)/(1+e**(1/x))\n",
    "\n",
    "xn = np.arange(0.001, 0.1, 0.001)\n",
    "print( f1(xn))\n"
   ]
  },
  {
   "cell_type": "markdown",
   "metadata": {
    "id": "reXk6WrH74X1"
   },
   "source": [
    "Para $\\dfrac{1}{e^{\\frac{-1}{x}}+1}$ e alguns valores de $x\\in (0.001, 0.1)$ podemos verificar a partir do algoritmo:"
   ]
  },
  {
   "cell_type": "code",
   "execution_count": null,
   "metadata": {
    "colab": {
     "base_uri": "https://localhost:8080/"
    },
    "id": "sR6AbnOJ74X1",
    "outputId": "f4e67e71-a141-4773-9f98-484b8d6f67d2"
   },
   "outputs": [
    {
     "name": "stdout",
     "output_type": "stream",
     "text": [
      "[1.         1.         1.         1.         1.         1.\n",
      " 1.         1.         1.         1.         1.         1.\n",
      " 1.         1.         1.         1.         1.         1.\n",
      " 1.         1.         1.         1.         1.         1.\n",
      " 1.         1.         1.         1.         1.         1.\n",
      " 1.         1.         1.         1.         1.         1.\n",
      " 1.         1.         1.         1.         1.         1.\n",
      " 1.         1.         1.         1.         1.         1.\n",
      " 1.         1.         1.         1.         0.99999999 0.99999999\n",
      " 0.99999999 0.99999998 0.99999998 0.99999997 0.99999996 0.99999994\n",
      " 0.99999992 0.9999999  0.99999987 0.99999984 0.99999979 0.99999974\n",
      " 0.99999967 0.99999959 0.99999949 0.99999938 0.99999924 0.99999907\n",
      " 0.99999888 0.99999865 0.99999838 0.99999807 0.99999771 0.9999973\n",
      " 0.99999682 0.99999627 0.99999565 0.99999494 0.99999414 0.99999324\n",
      " 0.99999223 0.99999109 0.99998981 0.99998839 0.99998681 0.99998505\n",
      " 0.99998311 0.99998097 0.99997861 0.99997602 0.99997318 0.99997007\n",
      " 0.99996668 0.99996298 0.99995896]\n"
     ]
    }
   ],
   "source": [
    "from math import e\n",
    "import numpy as np\n",
    "def f2(x):\n",
    "    return 1/(e**(-1/x)+1)\n",
    "\n",
    "xn = np.arange(0.001, 0.1, 0.001)\n",
    "print(f2(xn))"
   ]
  },
  {
   "cell_type": "markdown",
   "metadata": {
    "id": "bcTswOMi74X1"
   },
   "source": [
    "Note que o limite das equações quando $x\\overset{{0_+}{}}\\longrightarrow 1 $. A $\\dfrac{1}{e^{\\frac{-1}{x}}+1}$ é a expressão mais adequada, já que ocorre um erro na primeira equação devido a limitação da máquina para representar números reais, teremos que $f(x)$ não será um número real (nan), desta forma não consegue-se usar aquela equação para valores de $x$ muito próximos de $0$.\n"
   ]
  },
  {
   "cell_type": "markdown",
   "metadata": {
    "id": "TecVYgWE74X1"
   },
   "source": [
    "$\\textbf{Questão 3}$\n",
    "\n",
    "\n",
    "Calcule $e^{-5}$ usando as duas abordagens\n",
    "$$ e^{-x} = 1-x+\\frac{x^2}{2!}-\\frac{x^3}{3!}+... $$\n",
    "e\n",
    "$$ e^{-x} = \\frac{1}{e^x} = \\frac{1}{1+x+\\frac{x^2}{2!}+\\frac{x^3}{3!}+...} $$\n",
    "e compare com o valor verdadeiro de $6,737947 \\times 10^{-3}$. Faça um programa para calcular até 30 termos da série e analise o erro relativo quando cada termo for adicionado.\n",
    "\n"
   ]
  },
  {
   "cell_type": "markdown",
   "metadata": {
    "id": "oEXMg3q674X1"
   },
   "source": [
    "Calculemos agora $e^{-5}$ a partir de duas séries com 30 termos:\n",
    "\n",
    "Para $e^{-x}=\\underset{n=1}{\\overset{30}{\\sum}}(-1)^n\\dfrac{x^n}{n!}$"
   ]
  },
  {
   "cell_type": "code",
   "execution_count": null,
   "metadata": {
    "colab": {
     "base_uri": "https://localhost:8080/"
    },
    "id": "LQmX0VMb74X1",
    "outputId": "1b0e6206-fa68-4fd1-a498-53248dd9fd34"
   },
   "outputs": [
    {
     "name": "stdout",
     "output_type": "stream",
     "text": [
      "O erro relativo na iteração  1  é 743.0657954121634\n",
      "O erro relativo na iteração  2  é 1112.098693118245\n",
      "O erro relativo na iteração  3  é 1979.842121099102\n",
      "O erro relativo na iteração  4  é 1885.0838966725823\n",
      "O erro relativo na iteração  5  é 1979.842121099102\n",
      "O erro relativo na iteração  6  é 1240.9295603773014\n",
      "O erro relativo na iteração  7  é 1059.6216406772726\n",
      "O erro relativo na iteração  8  é 378.2228599818362\n",
      "O erro relativo na iteração  9  é 420.57964038433533\n",
      "O erro relativo na iteração  10  é 21.178390201249552\n",
      "O erro relativo na iteração  11  é 202.72441301174308\n",
      "O erro relativo na iteração  12  é 127.08023684070412\n",
      "O erro relativo na iteração  13  é 156.17415075264216\n",
      "O erro relativo na iteração  14  é 145.78346721266428\n",
      "O erro relativo na iteração  15  é 149.24702839265692\n",
      "O erro relativo na iteração  16  é 148.1646655239092\n",
      "O erro relativo na iteração  17  é 148.48300754412915\n",
      "O erro relativo na iteração  18  é 148.39457920517916\n",
      "O erro relativo na iteração  19  é 148.4178498206923\n",
      "O erro relativo na iteração  20  é 148.41203216681401\n",
      "O erro relativo na iteração  21  é 148.41341732249933\n",
      "O erro relativo na iteração  22  é 148.41310251438904\n",
      "O erro relativo na iteração  23  é 148.41317095093476\n",
      "O erro relativo na iteração  24  é 148.41315669332107\n",
      "O erro relativo na iteração  25  é 148.4131595448438\n",
      "O erro relativo na iteração  26  é 148.41315899647404\n",
      "O erro relativo na iteração  27  é 148.41315909802398\n",
      "O erro relativo na iteração  28  é 148.41315907989008\n",
      "O erro relativo na iteração  29  é 148.4131590830166\n",
      "O erro relativo na iteração  30  é 148.41315908249555\n",
      "-0.9932620530004236\n"
     ]
    }
   ],
   "source": [
    "import math\n",
    "x0=0\n",
    "for n in range (1, 31):\n",
    "    fat = math.factorial(n)\n",
    "    x1=((-1)**n)*(5**n)/fat\n",
    "    x=x0+x1\n",
    "    a=abs(6.737947*10**(-3)-x)/abs(6.737947*10**(-3))\n",
    "    print(\"O erro relativo na iteração \", n , \" é\",a)\n",
    "    x0=x\n",
    "print(x0)"
   ]
  },
  {
   "cell_type": "markdown",
   "metadata": {
    "id": "1SwBywya74X1"
   },
   "source": [
    "Para $e^{-x}=\\dfrac{1}{e^x}=\\dfrac{1}{\\underset{n=1}{\\overset{30}{\\sum}}\\dfrac{x^n}{n!}}$"
   ]
  },
  {
   "cell_type": "code",
   "execution_count": null,
   "metadata": {
    "colab": {
     "base_uri": "https://localhost:8080/"
    },
    "id": "WMC8Kza874X1",
    "outputId": "c9923ba9-6275-4b3d-ab33-d9dcd6b32fb1"
   },
   "outputs": [
    {
     "name": "stdout",
     "output_type": "stream",
     "text": [
      "O erros relativo na iteração  1  é 28.682631816486538\n",
      "O erros relativo na iteração  2  é 7.4807519475675806\n",
      "O erros relativo na iteração  3  é 2.8716476282373744\n",
      "O erros relativo na iteração  4  é 1.3054471313775946\n",
      "O erros relativo na iteração  5  é 0.6414358608195319\n",
      "O erros relativo na iteração  6  é 0.32372219931064133\n",
      "O erros relativo na iteração  7  é 0.16293893310861413\n",
      "O erros relativo na iteração  8  é 0.08088428020965291\n",
      "O erros relativo na iteração  9  é 0.04011300239253005\n",
      "O erros relativo na iteração  10  é 0.02085944091520286\n",
      "O erros relativo na iteração  11  é 0.012341494415013001\n",
      "O erros relativo na iteração  12  é 0.008834157428429575\n",
      "O erros relativo na iteração  13  é 0.007491644236905703\n",
      "O erros relativo na iteração  14  é 0.007013040762749124\n",
      "O erros relativo na iteração  15  é 0.006853607303365483\n",
      "O erros relativo na iteração  16  é 0.006803794699962012\n",
      "O erros relativo na iteração  17  é 0.006789144872250449\n",
      "O erros relativo na iteração  18  é 0.00678507555132464\n",
      "O erros relativo na iteração  19  é 0.006784004682864174\n",
      "O erros relativo na iteração  20  é 0.006783736966104958\n",
      "O erros relativo na iteração  21  é 0.006783673224040462\n",
      "O erros relativo na iteração  22  é 0.006783658737208798\n",
      "O erros relativo na iteração  23  é 0.006783655587897567\n",
      "O erros relativo na iteração  24  é 0.00678365493179105\n",
      "O erros relativo na iteração  25  é 0.006783654800569695\n",
      "O erros relativo na iteração  26  é 0.006783654775334908\n",
      "O erros relativo na iteração  27  é 0.006783654770661828\n",
      "O erros relativo na iteração  28  é 0.006783654769827285\n",
      "O erros relativo na iteração  29  é 0.006783654769683496\n",
      "O erros relativo na iteração  30  é 0.006783654769659424\n",
      "0.006783654906304263\n"
     ]
    }
   ],
   "source": [
    "import math\n",
    "x0=0\n",
    "for n in range (1, 31):\n",
    "    fat = math.factorial(n)\n",
    "    x1=(5**n)/fat\n",
    "    x=x0+x1\n",
    "    a=abs(6.737947*10**(-3)-(1/x))/abs(6.737947*10**(-3))\n",
    "    print(\"O erros relativo na iteração \", n, \" é\",a)\n",
    "    x0=x\n",
    "xa=1/x\n",
    "print(xa)"
   ]
  },
  {
   "cell_type": "markdown",
   "metadata": {
    "id": "-nOyGmhZ74X1"
   },
   "source": [
    "$\\textbf{Questão 4}$\n",
    "\n",
    "Considere o polinômio $y=x^5-14.2x^4-2.7x^3+2.3x^2+0.4x+10$"
   ]
  },
  {
   "cell_type": "markdown",
   "metadata": {
    "id": "abtnvwmr74X1"
   },
   "source": [
    "(a) Calcule o polinômio\n",
    "\n",
    "$$y=  x^5- 14.2  x^4 -2.7 x^3 +2.3 x^2+0.4 x +10$$\n",
    "em $x_0=1.35$ usando python e posteriormente arredonde o resultado a 3 dígitos decimais.\n"
   ]
  },
  {
   "cell_type": "code",
   "execution_count": null,
   "metadata": {
    "colab": {
     "base_uri": "https://localhost:8080/"
    },
    "id": "R4kdOvyT74X1",
    "outputId": "234b01e8-8066-4b46-d52a-366d114d8de6"
   },
   "outputs": [
    {
     "name": "stdout",
     "output_type": "stream",
     "text": [
      "O polinômio avaliado em x= 1.35 é  -34.592617812500016\n",
      "Usando arredondamento com 3 dígitos decimais é  -34.593\n"
     ]
    }
   ],
   "source": [
    "x= 1.35\n",
    "y= (x**5)- 14.2*(x**4)-2.7*(x**3)+2.3*(x**2) +0.4*x + 10\n",
    "print( \"O polinômio avaliado em x= 1.35 é \", y)\n",
    "print( \"Usando arredondamento com 3 dígitos decimais é \", round(y,3))\n"
   ]
  },
  {
   "cell_type": "markdown",
   "metadata": {
    "id": "vfBwa2SE74X2"
   },
   "source": [
    "(b) Calcule o polinômio\n",
    "$$y=  x^5- 14.2  x^4 -2.7 x^3 +2.3 x^2+0.4 x +10$$\n",
    "em $x_0=1.35$ usando arredondamento com 3 dígitos decimais em cada operação que faça, calcule o erro relativo.\n"
   ]
  },
  {
   "cell_type": "code",
   "execution_count": null,
   "metadata": {
    "colab": {
     "base_uri": "https://localhost:8080/"
    },
    "id": "Mm1iIYT074X2",
    "outputId": "34330dfc-dbda-4828-fe01-6c95e825b80b"
   },
   "outputs": [
    {
     "name": "stdout",
     "output_type": "stream",
     "text": [
      "O valor obtido é -34.599 com erro relativo 0.0001844956497531713\n"
     ]
    }
   ],
   "source": [
    "x=1.35\n",
    "\n",
    "y1=round(x*x,3)\n",
    "y2=round(y1*x,3)\n",
    "y3=round(y2*x,3)\n",
    "y4=round(y3*x,3)\n",
    "\n",
    "y= round(y4,3) - round(14.2*y3,3) - round(2.7*y2,3) +round(2.3*y1,3)+ round(0.4*x,3) + 10\n",
    "\n",
    "err1 = abs((x**5)- 14.2*(x**4)-2.7*(x**3)+2.3*(x**2) +0.4*x + 10 - y)/abs((x**5)- 14.2*(x**4)-2.7*(x**3)+2.3*(x**2) +0.4*x + 10)\n",
    "\n",
    "print(\"O valor obtido é\",y,\"com erro relativo\",err1)\n",
    "\n"
   ]
  },
  {
   "cell_type": "markdown",
   "metadata": {
    "id": "w5j47K8Z74X2"
   },
   "source": [
    "(c) Calcule agora  \n",
    "$$y= (( ((x- 14.2) x  -2.7) x +2.3) x +0.4) x +10$$\n",
    "em $x_0=1.35$ usando arredondamento com 3 dígitos decimais em cada operação que faça. Compare os erros e descreva suas conclusões.\n"
   ]
  },
  {
   "cell_type": "code",
   "execution_count": null,
   "metadata": {
    "colab": {
     "base_uri": "https://localhost:8080/"
    },
    "id": "jLwg0tlo74X2",
    "outputId": "2d53198d-98cd-4681-8b2d-4a021483e61b"
   },
   "outputs": [
    {
     "name": "stdout",
     "output_type": "stream",
     "text": [
      "valor: -34.595 com erro relativo: 6.886404240623079e-05\n"
     ]
    }
   ],
   "source": [
    "x=1.35\n",
    "\n",
    "y1= round (x-14.2,3)\n",
    "y2= round(y1*x,3)\n",
    "y3=round(y2-2.7,3)\n",
    "y4=round(y3*x,3)\n",
    "y5=round(y4+2.3,3)\n",
    "y6=round(y5*x,3)\n",
    "y7=round(y6+0.4,3)\n",
    "y8=round(y7*x,3)\n",
    "\n",
    "y=round(y8+10,3)\n",
    "\n",
    "err2=abs((x**5)- 14.2*(x**4)-2.7*(x**3)+2.3*(x**2) +0.4*x + 10 - y)/abs((x**5)- 14.2*(x**4)-2.7*(x**3)+2.3*(x**2) +0.4*x + 10)\n",
    "print(\"valor:\",y,\"com erro relativo:\",err2)\n"
   ]
  },
  {
   "cell_type": "code",
   "execution_count": null,
   "metadata": {
    "colab": {
     "base_uri": "https://localhost:8080/"
    },
    "id": "H9d05dF874X2",
    "outputId": "9dab0ed1-533b-4c9f-ae29-816f34bdcb92"
   },
   "outputs": [
    {
     "name": "stdout",
     "output_type": "stream",
     "text": [
      "Note que os erros obtidos em (b) e (c) são 0.0001844956497531713 e 6.886404240623079e-05 , respectivamente.\n"
     ]
    }
   ],
   "source": [
    "print(\"Note que os erros obtidos em (b) e (c) são\", err1, \"e\", err2, \", respectivamente.\")"
   ]
  },
  {
   "cell_type": "markdown",
   "metadata": {
    "id": "-7Dr3Spi74X2"
   },
   "source": [
    "Desta forma concluimos que o erro relativo é menor quando separamos operação por operação com os parenteses como feito em $\\textbf{c)}$, ao invés de fazermos as pontêcias primeiro. Isso decorre do fato que teremos mais arredondamentos feitas por causa das potências."
   ]
  },
  {
   "cell_type": "markdown",
   "metadata": {
    "id": "RCslnUIY74X2"
   },
   "source": [
    "$\\textbf{Questão 5}$\n",
    "\n",
    "De acordo com o $\\textit{ princípio de Arquimedes}$, $\\textit{a força de  flutuação}$ é igual ao peso do fluido deslocado pela parte submersa de um objeto. Para o tronco de cone mostrado abaixo, use o método da bisseção para determinar a altura $h_1$ da parte que está acima da água. Use os seguintes valores para seus cálculos: $r_1 = 0,5 m$, $r_2 = 1 m$, $h = 1 m$, $\\rho_f=densidade do tronco=200 kg/m^3$ e $\\rho_w=densidade da água=1000 kg/m^3$. O volume do trondo de cone é dado por: $$V=\\frac{\\pi h}{3}(r_1^2+r_2^2+r_1 r_2)$$"
   ]
  },
  {
   "cell_type": "markdown",
   "metadata": {
    "id": "hN_GjhwgjMS5"
   },
   "source": [
    "Para determinar o volume submerso vamos utilizar a seguinte semelhança:\n",
    "\n",
    "\n",
    "![10.png](data:image/png;base64,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)\n",
    "\n",
    "$ \\dfrac{y+1}{1}=\\dfrac{y+h_{1}}{r'}=\\dfrac{y}{0,5} \\implies r'=\\dfrac{1+h_{1}}{2}$\n",
    "\n",
    "$\\implies V_{submerso} = \\dfrac{\\pi}{3}(1-h_{1})(1^2 + (r')^2 + r')= \\dfrac{\\pi}{12}(-h_{1}^3 -5h_{1}^2 - h_{1}+7) $\n",
    "\n",
    "Devemos cumprir a condição de arquimedes: $\\rho_{w}V_{submberso}=\\rho_{f}V_{total}$,\n",
    " \n",
    "$1000 \\dfrac{\\pi}{12}(-h_{1}^3 -5h_{1}^2 - h_{1}+7) = 200 \\dfrac{\\pi}{3}(1+(0,5)^2 + 0,5) \\implies h_{1}^3 + 5h_{1}^2 + h_{1} - 5,6 =0$.\n",
    "\n",
    "\n",
    "Vamos calcular $h_{1}$ com uma aproximação de $\\epsilon = 0,001$\n",
    "\n",
    "\n"
   ]
  },
  {
   "cell_type": "code",
   "execution_count": null,
   "metadata": {
    "colab": {
     "base_uri": "https://localhost:8080/"
    },
    "id": "Pezxg1kl6kX2",
    "outputId": "d34f91d2-94e5-4bb1-ef40-250cf0684e3c"
   },
   "outputs": [
    {
     "name": "stdout",
     "output_type": "stream",
     "text": [
      "Logo o valor de h1 é aproximadamente 0.892578125\n"
     ]
    }
   ],
   "source": [
    "r=0.5\n",
    "s=1\n",
    "err=5 \n",
    "\n",
    "def f(x):\n",
    "  return x**3 + 5*(x**2) + x - 5.6\n",
    "\n",
    "while err>0.001:\n",
    "  x=(r+s)/2\n",
    "  if f(r)*f(x)<0:\n",
    "      s=x\n",
    "  else: \n",
    "      r=x\n",
    "  err=abs((r-s)/2)\n",
    "print(\"Logo o valor de h1 é aproximadamente\",x)"
   ]
  },
  {
   "cell_type": "markdown",
   "metadata": {
    "id": "qiHM3ugS74X2"
   },
   "source": [
    "$\\textbf{Questão 6}$\n",
    "\n",
    "Calcule todas as raízes de $f(x)=lnx-x+2=0$ pelo método do  Aproximações Sucessivas (Ponto-Fixo) até que o erro relativo seja inferior a 0.0001. Em seguida, use o Método de Newton para resolver a mesma equação e compare os resultados comentando sebre o que você observou.\n"
   ]
  },
  {
   "cell_type": "markdown",
   "metadata": {
    "id": "qQXIxR7B74X2"
   },
   "source": [
    "Observemos que temos duas raizes $\\overline{x_1}\\in (0.1,0.5)$ e  $\\overline{x_2}\\in (3,3.5)$."
   ]
  },
  {
   "cell_type": "code",
   "execution_count": null,
   "metadata": {
    "colab": {
     "base_uri": "https://localhost:8080/",
     "height": 265
    },
    "id": "D377v8Bz74X2",
    "outputId": "01ad83de-2c1f-4b83-d551-b99b0d31cf95"
   },
   "outputs": [
    {
     "data": {
      "image/png": "[encoded data removed]",
      "text/plain": [
       "<Figure size 432x288 with 1 Axes>"
      ]
     },
     "metadata": {
      "needs_background": "light",
      "tags": []
     },
     "output_type": "display_data"
    }
   ],
   "source": [
    "import numpy as np\n",
    "import matplotlib.pyplot as plt\n",
    "\n",
    "def f(x):\n",
    "    return np.log(x)-x+2\n",
    "\n",
    "xn = np.arange(0.1, 4, 0.1)\n",
    "\n",
    "plt.plot(xn,f(xn))\n",
    "plt.grid()\n",
    "plt.show()"
   ]
  },
  {
   "cell_type": "markdown",
   "metadata": {
    "id": "ndUqiKA674X3"
   },
   "source": [
    "Usaremos as seguintes funções iterações, que convergem em cada um desses intervalos.\n",
    "\n",
    "Para $\\overline{x_2}\\in (3,3.5)$ usaremos $\\varphi(x)=ln(x)+2$:"
   ]
  },
  {
   "cell_type": "code",
   "execution_count": null,
   "metadata": {
    "colab": {
     "base_uri": "https://localhost:8080/"
    },
    "id": "zNFWP8U574X3",
    "outputId": "512da84d-9144-4a2e-b41e-e2ec98bd76d5"
   },
   "outputs": [
    {
     "name": "stdout",
     "output_type": "stream",
     "text": [
      "1 x=  3.09861228866811\n",
      "2 x=  3.130954362449719\n",
      "3 x=  3.141337866207925\n",
      "4 x=  3.1446487812179846\n",
      "5 x=  3.1457022086278554\n",
      "6 x=  3.146037143012731\n",
      "7 x=  3.1461436109912895\n",
      "Um dos zeros é aproximadamente:  3.1461436109912895\n"
     ]
    }
   ],
   "source": [
    "import numpy as np\n",
    "xi = 3\n",
    "err = 5\n",
    "\n",
    "i = 0\n",
    "\n",
    "while err>0.0001:\n",
    "    i+=1\n",
    "    x = np.log(xi)+2\n",
    "\n",
    "    err = abs(x-xi)/abs(x)\n",
    "    xi = x\n",
    "\n",
    "    print(i, \"x= \", x)\n",
    "print(\"Um dos zeros é aproximadamente: \", x)\n"
   ]
  },
  {
   "cell_type": "markdown",
   "metadata": {
    "id": "5rcgdnlh74X3"
   },
   "source": [
    "Para $\\overline{x_2}\\in (0.1,0.5)$ usaremos $\\varphi(x)=e^{x-2}$:"
   ]
  },
  {
   "cell_type": "code",
   "execution_count": null,
   "metadata": {
    "colab": {
     "base_uri": "https://localhost:8080/"
    },
    "id": "2Om8A0hX74X3",
    "outputId": "04400f1f-5d1a-4a8c-b21d-e87253d56384"
   },
   "outputs": [
    {
     "name": "stdout",
     "output_type": "stream",
     "text": [
      "1 x=  0.13669542544552388\n",
      "2 x=  0.15515904760848356\n",
      "3 x=  0.15805045643783658\n",
      "4 x=  0.15850810623055128\n",
      "5 x=  0.1585806640342768\n",
      "6 x=  0.1585921707164172\n",
      "O outro zero é aproximadamente:  0.1585921707164172\n"
     ]
    }
   ],
   "source": [
    "import numpy as np\n",
    "from math import e\n",
    "xi = 0.01\n",
    "err = 5\n",
    "\n",
    "i = 0\n",
    "\n",
    "while err>0.0001:\n",
    "    i+=1\n",
    "    x = e**(xi-2)\n",
    "\n",
    "    err = abs(x-xi)/abs(x)\n",
    "    xi = x\n",
    "\n",
    "    print(i, \"x= \", x)\n",
    "print(\"O outro zero é aproximadamente: \", x)\n"
   ]
  },
  {
   "cell_type": "markdown",
   "metadata": {
    "id": "-sAbLiU574X3"
   },
   "source": [
    "Utilizando agora o método de newton próximo das raízes:"
   ]
  },
  {
   "cell_type": "code",
   "execution_count": null,
   "metadata": {
    "colab": {
     "base_uri": "https://localhost:8080/"
    },
    "id": "ukYt2Fnp74X3",
    "outputId": "fe407a26-b856-4e7c-bfcf-63ea25a2a58b"
   },
   "outputs": [
    {
     "name": "stdout",
     "output_type": "stream",
     "text": [
      "1 3.1479184330021646\n",
      "2 3.1461934407979086\n",
      "3 3.146193220620586\n",
      "Um outro zero é aproximadamente:  3.146193220620586\n"
     ]
    }
   ],
   "source": [
    "def phi(x):\n",
    "    return x - (np.log(x)-x+2)/(1/x-1)\n",
    "x = 3 \n",
    "i=0\n",
    "xant = 3\n",
    "err = 5\n",
    "while err>0.0001:\n",
    "    i+=1\n",
    "    x = phi(x)\n",
    "    err = abs(x-xant)/abs(x)\n",
    "    xant = x\n",
    "    print(i,x)\n",
    "print(\"Um outro zero é aproximadamente: \", x)"
   ]
  },
  {
   "cell_type": "code",
   "execution_count": null,
   "metadata": {
    "colab": {
     "base_uri": "https://localhost:8080/"
    },
    "id": "YKQ_Sijt74X3",
    "outputId": "8407badd-af12-417e-9f4c-688a1b4a17c7"
   },
   "outputs": [
    {
     "name": "stdout",
     "output_type": "stream",
     "text": [
      "1 0.1447316769993384\n",
      "2 0.1578643558508273\n",
      "3 0.15859234157002494\n",
      "4 0.15859433954808158\n",
      "O outro zero é aproximadamente:  0.15859433954808158\n"
     ]
    }
   ],
   "source": [
    "def phi(x):\n",
    "    return x - (np.log(x)-x+2)/(1/x-1)\n",
    "x = 0.1 \n",
    "i=0\n",
    "xant = 0.1\n",
    "err = 5\n",
    "while err>0.0001:\n",
    "    i+=1\n",
    "    x = phi(x)\n",
    "    err = abs(x-xant)/abs(x)\n",
    "    xant = x\n",
    "    print(i, x)\n",
    "print(\"O outro zero é aproximadamente: \", x)"
   ]
  },
  {
   "cell_type": "markdown",
   "metadata": {
    "id": "QMVSeZ6m74X3"
   },
   "source": [
    "Observamos que o método de newton converge mais rápido, basta analisarmos o número de iterações que cada algoritmo faz para determinada raiz."
   ]
  },
  {
   "cell_type": "markdown",
   "metadata": {
    "id": "cjeuzk7D74X3"
   },
   "source": [
    "$\\textbf{Questão 7}$\n",
    "\n",
    "A velocidade $v$ de um foguete Saturno V em voo vertical perto da superfície da terra pode ser modelada mediante a equação:\n",
    "\n",
    "$$v= u \\ln \\frac{m_0}{m_0 - m_1 t} - g\\,   t$$  \n",
    "\n",
    "onde \n",
    "\n",
    "$u = 2510 m/s $ = velocidade de exaustão relativa ao foguete,\n",
    "$m_0 = 2.8 \\times 10^{6}kg$ = massa do foguete ao decolar,\n",
    "$m_1 = 13.3 \\times 10^{3} kg/s$ = taxa de consumo de combustível,\n",
    "$g =  9.81m/s^2$ = aceleração gravitacional,\n",
    "$t =$  tempo medido desde a decolagem.\n",
    "\n",
    "\n",
    "(a) Determine o tempo quando o foguete atinge a metade da velocidade do som ($167.5 m/s$) com um erro relativo  de 4 casas decimais.\n",
    "\n",
    "(b) Determine o tempo  quando o foguete atinge a velocidade do som $ 335 m/s$ com um erro relativo  de 4 casas decimais.\n",
    "\n",
    "(c) Determine o tempo  quando o foguete atinge a velocidade $ 600 m/s$ com um erro relativo  de 4 casas decimais.\n",
    "\n",
    "(d) Usando o método da bisseção  com $x_0=60, \\, x_1= 120$, quantas iterações seriam necessárias para obter a solução de (b)  com um erro absoluto menor de 13 casas decimais?\n",
    "\n",
    "(e)Considere $v_0$ cada uma das velocidades dos problemas (a), (b), \n",
    "(c). Fixada uma velocidade $v_0$, na equação dada podemos isolar $t$ no último somando e tomar \n",
    "\n",
    "$$\\Phi(t)=\\frac{\\left( v_0 + u \\ln \\frac{m_0}{m_0 - m_1 t}\\right)}{g}.\\$$\n",
    "Assim, substituindo  $v_0$ pelas velocidades dos problemas (a), (b), (c),  vemos que bastaria aplicar o método do ponto fixo  para $\\Phi$ em cada uma destas velocidades. Esta é uma boa maneira de solucionar (a), (b), ou (c)? Justifique."
   ]
  },
  {
   "cell_type": "markdown",
   "metadata": {
    "id": "ke7rkASN74X3"
   },
   "source": [
    "Considere a função dada no exercício. Encontraremos o tempo a partir da velocidade definindo as seguintes funções e utilizando o método da bisseção."
   ]
  },
  {
   "cell_type": "code",
   "execution_count": null,
   "metadata": {
    "id": "KXbhvIyE74X3"
   },
   "outputs": [],
   "source": [
    "import numpy as np\n",
    "import matplotlib.pyplot as plt\n",
    "\n",
    "u=2510\n",
    "m0=2.8*10**6\n",
    "m1=13.3*10**3\n",
    "g=9.81\n",
    "v1=167\n",
    "v2=335\n",
    "v3=600\n",
    "def f1(t):\n",
    "    return (u*np.log(m0/(m0-m1*t))-g*t-v1)\n",
    "def f2(t):\n",
    "    return (u*np.log(m0/(m0-m1*t))-g*t-v2)\n",
    "def f3(t):\n",
    "    return (u*np.log(m0/(m0-m1*t))-g*t-v3)\n",
    "\n",
    "\n",
    "\n"
   ]
  },
  {
   "cell_type": "markdown",
   "metadata": {
    "id": "b8icaJdq74X3"
   },
   "source": [
    "Item $\\textbf(a):$"
   ]
  },
  {
   "cell_type": "code",
   "execution_count": null,
   "metadata": {
    "colab": {
     "base_uri": "https://localhost:8080/",
     "height": 265
    },
    "id": "I4IGEAXk74X3",
    "outputId": "9b346561-8243-4e98-905a-08c9daa29083"
   },
   "outputs": [
    {
     "data": {
      "image/png": "[encoded data removed]",
      "text/plain": [
       "<Figure size 432x288 with 1 Axes>"
      ]
     },
     "metadata": {
      "needs_background": "light",
      "tags": []
     },
     "output_type": "display_data"
    }
   ],
   "source": [
    "xn = np.arange(40, 50, 0.1)\n",
    "\n",
    "plt.plot(xn,f1(xn))\n",
    "\n",
    "plt.grid()\n",
    "plt.show()"
   ]
  },
  {
   "cell_type": "code",
   "execution_count": null,
   "metadata": {
    "colab": {
     "base_uri": "https://localhost:8080/"
    },
    "id": "9zcKxzmm74X4",
    "outputId": "9edd8ff0-c5c1-4c86-8366-42eaaa993d7b"
   },
   "outputs": [
    {
     "name": "stdout",
     "output_type": "stream",
     "text": [
      "1 x= 45.0\n"
     ]
    }
   ],
   "source": [
    "r = 44\n",
    "s = 46\n",
    "err = 5 #arbitrario\n",
    "xant = 45 #arbitrario\n",
    "i=0\n",
    "while err>0.0001:\n",
    "    i+=1\n",
    "    x = (r+s)/2\n",
    "    if f1(r)*f1(x)<0:\n",
    "        s = x\n",
    "    else:\n",
    "        r = x\n",
    "    err = abs(x-xant)/abs(x) #(s-r)/2\n",
    "    xant = x\n",
    "    print(i,\"x=\", x)"
   ]
  },
  {
   "cell_type": "markdown",
   "metadata": {
    "id": "d-3iHFJz74X4"
   },
   "source": [
    "Item $\\textbf(b):$"
   ]
  },
  {
   "cell_type": "code",
   "execution_count": null,
   "metadata": {
    "colab": {
     "base_uri": "https://localhost:8080/",
     "height": 265
    },
    "id": "r5X7n8-d74X4",
    "outputId": "80fbe991-738f-4d85-d3df-fbaf9aef6a50"
   },
   "outputs": [
    {
     "data": {
      "image/png": "[encoded data removed]",
      "text/plain": [
       "<Figure size 432x288 with 1 Axes>"
      ]
     },
     "metadata": {
      "needs_background": "light",
      "tags": []
     },
     "output_type": "display_data"
    }
   ],
   "source": [
    "\n",
    "xn = np.arange(30, 100, 0.1)\n",
    "\n",
    "\n",
    "plt.plot(xn,f2(xn))\n",
    "\n",
    "plt.grid()\n",
    "plt.show()"
   ]
  },
  {
   "cell_type": "code",
   "execution_count": null,
   "metadata": {
    "colab": {
     "base_uri": "https://localhost:8080/"
    },
    "id": "FpIoxrFM74X4",
    "outputId": "37b7f7ad-07b7-4250-e6f8-5f9459caa746"
   },
   "outputs": [
    {
     "name": "stdout",
     "output_type": "stream",
     "text": [
      "1 x= 75.0\n",
      "2 x= 70.0\n",
      "3 x= 72.5\n",
      "4 x= 71.25\n",
      "5 x= 70.625\n",
      "6 x= 70.9375\n",
      "7 x= 70.78125\n",
      "8 x= 70.859375\n",
      "9 x= 70.8984375\n",
      "10 x= 70.87890625\n",
      "11 x= 70.869140625\n",
      "12 x= 70.8740234375\n"
     ]
    }
   ],
   "source": [
    "r = 65\n",
    "s = 85\n",
    "err = 5 #arbitrario\n",
    "xant = 70 #arbitrario\n",
    "i=0\n",
    "while err>0.0001:\n",
    "    i+=1\n",
    "    x = (r+s)/2\n",
    "    if f2(r)*f2(x)<0:\n",
    "        s = x\n",
    "    else:\n",
    "        r = x\n",
    "    err = abs(x-xant)/abs(x) #(s-r)/2\n",
    "    xant = x\n",
    "    print(i,\"x=\", x)"
   ]
  },
  {
   "cell_type": "markdown",
   "metadata": {
    "id": "aMk4TrEP74X4"
   },
   "source": [
    "Item $\\textbf(c):$"
   ]
  },
  {
   "cell_type": "code",
   "execution_count": null,
   "metadata": {
    "colab": {
     "base_uri": "https://localhost:8080/",
     "height": 268
    },
    "id": "XihS1z7Q74X4",
    "outputId": "0604f32b-f555-4493-9c87-ee470486871c"
   },
   "outputs": [
    {
     "data": {
      "image/png": "[encoded data removed]",
      "text/plain": [
       "<Figure size 432x288 with 1 Axes>"
      ]
     },
     "metadata": {
      "needs_background": "light",
      "tags": []
     },
     "output_type": "display_data"
    }
   ],
   "source": [
    "xn = np.arange(90, 100, 0.1)\n",
    "\n",
    "\n",
    "plt.plot(xn,f3(xn))\n",
    "\n",
    "plt.grid()\n",
    "plt.show()"
   ]
  },
  {
   "cell_type": "code",
   "execution_count": null,
   "metadata": {
    "colab": {
     "base_uri": "https://localhost:8080/"
    },
    "id": "_7Xzt1t074X4",
    "outputId": "bb2fc387-542f-4cc4-f8b6-ecdf18b80a8c"
   },
   "outputs": [
    {
     "name": "stdout",
     "output_type": "stream",
     "text": [
      "1 x= 97.0\n"
     ]
    }
   ],
   "source": [
    "r = 96\n",
    "s = 98\n",
    "err = 5 #arbitrario\n",
    "xant = 97 #arbitrario\n",
    "i=0\n",
    "while err>0.0001:\n",
    "    i+=1\n",
    "    x = (r+s)/2\n",
    "    if f3(r)*f3(x)<0:\n",
    "        s = x\n",
    "    else:\n",
    "        r = x\n",
    "    err = abs(x-xant)/abs(x) #(s-r)/2\n",
    "    xant = x\n",
    "    print(i,\"x=\", x)"
   ]
  },
  {
   "cell_type": "markdown",
   "metadata": {
    "id": "KEmjWgsM74X5"
   },
   "source": [
    "Item $\\textbf(d):$"
   ]
  },
  {
   "cell_type": "code",
   "execution_count": null,
   "metadata": {
    "colab": {
     "base_uri": "https://localhost:8080/"
    },
    "id": "FLYeOGMm74X5",
    "outputId": "1709d9ee-993f-444a-aa43-243fa7c333a5"
   },
   "outputs": [
    {
     "name": "stdout",
     "output_type": "stream",
     "text": [
      "Seriam necessárias 54 interações para obtermos erro absoluto menor que 13 casas decimais\n"
     ]
    }
   ],
   "source": [
    "r = 60\n",
    "s = 120\n",
    "err = 5 #arbitrario\n",
    "xant = 45 #arbitrario\n",
    "i=0\n",
    "while err>0.1*10**(-13):\n",
    "    i+=1\n",
    "    x = (r+s)/2\n",
    "    if f2(r)*f2(x)<0:\n",
    "        s = x\n",
    "    else:\n",
    "        r = x\n",
    "    err = abs(x-xant) #(s-r)/2\n",
    "    xant = x\n",
    "    #print(i,\"x=\", x)\n",
    "print(\"Seriam necessárias\", i, \"interações para obtermos erro absoluto menor que 13 casas decimais\")"
   ]
  },
  {
   "cell_type": "markdown",
   "metadata": {
    "id": "CpW7L778BkL1"
   },
   "source": [
    "   $ e)$\n",
    "   \\\\\n",
    "   Vamos analisar $ \\Phi'$\n",
    "   \\\\\n",
    "   fazendo as contas temos:\n",
    "    $\\Phi'(t) = \\dfrac{m_{1}u}{g(m_{0} - m_{1}t)}$\n",
    "    \\\\\n",
    "    Para que o método funcione é necessário que tenhamos $|\\Phi'(t)| < 1$ ou seja :\n",
    "    \\\\\n",
    "    $ -1<\\dfrac{m_{1}u}{g(m_{0} - m_{1}t)} <1$ \n",
    "    \\\\\n",
    "    Fazendo apenas o lado direito da desigualdade temos: \n",
    "    \\\\\n",
    "    $m_{1}u<g(m_{0}-m_{1}t) \\implies t<\\dfrac{gm_{0} - m_{1}u}{gm_{1}}$\n",
    " \\\\\n",
    " substituindo temos:\n",
    " \\\\\n",
    "  $ t < -45,33$ , mas $t>0$ logo $|\\Phi'(t)| ≥ 1$ e o método não é eficaz para solucionar o problema.\n"
   ]
  },
  {
   "cell_type": "markdown",
   "metadata": {
    "id": "rFbmUw7474X5"
   },
   "source": [
    "$\\textbf{Questão 8}$ \n",
    "\n",
    "Considere a função \n",
    "$$f(x)=x^{3}-2x^{2}-11x+12$$\n",
    "Aplique o método de Newton-Raphson para os seguintes pontos inciais:\n",
    "\n",
    "\\begin{align*}\n",
    "a_0& = 2.35287527 &% converges to 4;\n",
    "b_0& =2.35284172\\\\% converges to ?3;\n",
    "c_0& =2.35283735&% converges to 4;\n",
    "d_0& =2.352836327\\\\% converges to ?3;\n",
    "e_0& =2.352836323% converges to 1.\n",
    "\\end{align*}\n",
    "e analise a convergência em cada caso. Dê uma justificativa não unicamente numérica do porquê estes resultados são obtidos. Use também o método de Newton com Briot-Ruffini para um desses pontos, compare e comente o resultado.\n"
   ]
  },
  {
   "cell_type": "code",
   "execution_count": null,
   "metadata": {
    "id": "iV3XGxD574X5"
   },
   "outputs": [],
   "source": [
    "def newton(f,Df,x0,epsilon,iter_max):\n",
    "    '''Soluçao aproximada de f(x)=0 pelo metódo de newton\n",
    "    \n",
    "    Parametros\n",
    "    \n",
    "------------------\n",
    "\n",
    "f= funçao\n",
    "Df = derivada de f\n",
    "x0 = chute inicial\n",
    "episolon = critério de parada\n",
    "iter_max = numero de iteraçoes maximas\n",
    "'''\n",
    "    xn = x0\n",
    "    for n in range (0,iter_max):\n",
    "        fxn = f(xn)\n",
    "        if abs(fxn) < epsilon:\n",
    "            print('Soluçao com', n, 'iteraçoes.')\n",
    "            return xn\n",
    "        Dfxn = Df(xn)\n",
    "        if Dfxn == 0:\n",
    "            print('Derivada igual a 0. Nenhuma soluçao encontrada.')\n",
    "            return None\n",
    "        xn = xn - fxn/Dfxn\n",
    "    print('Maximo de iteraçoes excedidas. Nenhuma soluçao encontrada.')\n",
    "    return None"
   ]
  },
  {
   "cell_type": "markdown",
   "metadata": {
    "id": "I4px9CWqvgFD"
   },
   "source": [
    "Para $a_0 = 2.35287527$ temos"
   ]
  },
  {
   "cell_type": "code",
   "execution_count": null,
   "metadata": {
    "colab": {
     "base_uri": "https://localhost:8080/"
    },
    "id": "ms8CFkpdvqHq",
    "outputId": "05a1524c-66d6-42c6-e175-fea942761072"
   },
   "outputs": [
    {
     "name": "stdout",
     "output_type": "stream",
     "text": [
      "Soluçao com 38 iteraçoes.\n",
      "4.0\n"
     ]
    }
   ],
   "source": [
    "p = lambda x: x**3 - 2*(x**2) - 11*x + 12\n",
    "Dp = lambda x: 3*(x**2) - 4*x - 11\n",
    "approx = newton(p,Dp,2.35287527,1e-10,100)\n",
    "print(approx)"
   ]
  },
  {
   "cell_type": "markdown",
   "metadata": {
    "id": "JR2GJBTav5ba"
   },
   "source": [
    "Para $c_0 = 2.35283735$ temos "
   ]
  },
  {
   "cell_type": "code",
   "execution_count": null,
   "metadata": {
    "colab": {
     "base_uri": "https://localhost:8080/"
    },
    "id": "wcLCrEyXv84N",
    "outputId": "400a4c8b-5790-4b1f-c4d4-b1da0ea4788e"
   },
   "outputs": [
    {
     "name": "stdout",
     "output_type": "stream",
     "text": [
      "Soluçao com 25 iteraçoes.\n",
      "4.000000000000001\n"
     ]
    }
   ],
   "source": [
    "p = lambda x: x**3 - 2*(x**2) - 11*x + 12\n",
    "Dp = lambda x: 3*(x**2) - 4*x - 11\n",
    "approx = newton(p,Dp,2.35283735,1e-10,100)\n",
    "print(approx)"
   ]
  },
  {
   "cell_type": "markdown",
   "metadata": {
    "id": "nep01kgpwBgU"
   },
   "source": [
    "Para $e_0 = 2.352836323$ temos "
   ]
  },
  {
   "cell_type": "code",
   "execution_count": null,
   "metadata": {
    "colab": {
     "base_uri": "https://localhost:8080/"
    },
    "id": "yTl9tbriv_Jj",
    "outputId": "75972cab-3ce4-4b03-e9a4-7f1a68401d73"
   },
   "outputs": [
    {
     "name": "stdout",
     "output_type": "stream",
     "text": [
      "Soluçao com 16 iteraçoes.\n",
      "0.9999999999999925\n"
     ]
    }
   ],
   "source": [
    "p = lambda x: x**3 - 2*(x**2) - 11*x + 12\n",
    "Dp = lambda x: 3*(x**2) - 4*x - 11\n",
    "approx = newton(p,Dp,2.352836323,1e-10,100)\n",
    "print(approx)"
   ]
  },
  {
   "cell_type": "markdown",
   "metadata": {
    "id": "K51xvyEwwKlj"
   },
   "source": [
    "Para $b_0 = 2.35284172$ temos "
   ]
  },
  {
   "cell_type": "code",
   "execution_count": null,
   "metadata": {
    "colab": {
     "base_uri": "https://localhost:8080/"
    },
    "id": "ew1JYH9SwG2v",
    "outputId": "71183024-3e17-4a7a-fa8b-99849ce2e544"
   },
   "outputs": [
    {
     "name": "stdout",
     "output_type": "stream",
     "text": [
      "Soluçao com 32 iteraçoes.\n",
      "-2.9999999999999996\n"
     ]
    }
   ],
   "source": [
    "p = lambda x: x**3 - 2*(x**2) - 11*x + 12\n",
    "Dp = lambda x: 3*(x**2) - 4*x - 11\n",
    "approx = newton(p,Dp,2.35284172,1e-10,100)\n",
    "print(approx)"
   ]
  },
  {
   "cell_type": "markdown",
   "metadata": {
    "id": "_vKjXcKrwPEJ"
   },
   "source": [
    "Para $d_0 = 2.352836327$ temos "
   ]
  },
  {
   "cell_type": "code",
   "execution_count": null,
   "metadata": {
    "colab": {
     "base_uri": "https://localhost:8080/"
    },
    "id": "M4y3o_TJwNUI",
    "outputId": "8d1fcae4-0b5c-4e65-b67a-4dcd0d9826b2"
   },
   "outputs": [
    {
     "name": "stdout",
     "output_type": "stream",
     "text": [
      "Soluçao com 25 iteraçoes.\n",
      "-3.0000000000000004\n"
     ]
    }
   ],
   "source": [
    "p = lambda x: x**3 - 2*(x**2) - 11*x + 12\n",
    "Dp = lambda x: 3*(x**2) - 4*x - 11\n",
    "approx = newton(p,Dp,2.352836327,1e-10,100)\n",
    "print(approx)"
   ]
  },
  {
   "cell_type": "markdown",
   "metadata": {
    "id": "PZ-i7wV3wUW_"
   },
   "source": [
    "Podemos ver que $d_0$ e $b_0$ converge para $-3$ que é uma raiz do polinomio, equanto $e_0$ converge para $1$, sendo outra raiz da equaçao e $a_0$ e $c_0$ convergem para $4$ que é a ultima raiz. "
   ]
  },
  {
   "cell_type": "markdown",
   "metadata": {
    "id": "z4PZ8Z5owZrv"
   },
   "source": [
    "Aplicando agora o método de BriotRuffini para o mesmo polinomio, usando $b_0$ podemos ver que para $32$ iteraçoes ele dá o resultado exato para $-3$ enquanto usando apenas o método de Newton ele chega em $-2.9999999999999996$, ou seja, o método de Briot rufini é mais exato."
   ]
  },
  {
   "cell_type": "code",
   "execution_count": null,
   "metadata": {
    "colab": {
     "base_uri": "https://localhost:8080/"
    },
    "id": "BYvZGNxnwTV6",
    "outputId": "3abc3bf5-bea5-450a-910c-59d8664a4a65"
   },
   "outputs": [
    {
     "name": "stdout",
     "output_type": "stream",
     "text": [
      "-0.7829843906173863\n",
      "2.353039949840584\n",
      "-0.7846387447013967\n",
      "2.360549042661463\n",
      "-0.8488465526062972\n",
      "2.6941683000442738\n",
      "-12055.35192340383\n",
      "-8036.679287390166\n",
      "-5357.564310392983\n",
      "-3571.487829588185\n",
      "-2380.7704315280307\n",
      "-1586.9592165802383\n",
      "-1057.752315686836\n",
      "-704.948578924156\n",
      "-469.7473840060203\n",
      "-312.9485329242947\n",
      "-208.41888641735352\n",
      "-138.73684258217975\n",
      "-92.28874070790334\n",
      "-61.333260660090446\n",
      "-40.71122475682028\n",
      "-26.985785637782\n",
      "-17.869736722499503\n",
      "-11.844583535743642\n",
      "-7.908047227864977\n",
      "-5.4079340638786615\n",
      "-3.9322320060101603\n",
      "-3.2187159867750132\n",
      "-3.016602168424584\n",
      "-3.000107209199044\n",
      "-3.000000004515134\n",
      "-3.0\n"
     ]
    }
   ],
   "source": [
    "a = [1,-2,-11,12]\n",
    "\n",
    "x = 2.35284172 #b_0\n",
    "\n",
    "\n",
    "def BriotRuffini(a,alpha):\n",
    "    b = a.copy()\n",
    "    for i in range(1,len(a)):\n",
    "        b[i] = alpha*b[i-1]+a[i]\n",
    "    return b\n",
    "\n",
    "def IteraNewton(a,x):\n",
    "    b = BriotRuffini(a,x)\n",
    "    c = BriotRuffini(b[0:len(a)-1],x)\n",
    "    return (x-b[-1]/c[-1])\n",
    "\n",
    "for k in range(32):\n",
    "    x = IteraNewton(a,x)\n",
    "    print(x)"
   ]
  },
  {
   "cell_type": "code",
   "execution_count": null,
   "metadata": {
    "colab": {
     "base_uri": "https://localhost:8080/",
     "height": 265
    },
    "id": "xMw4v15Xwu_X",
    "outputId": "18944877-c89c-4fa0-ef81-bab8f69b5f1f"
   },
   "outputs": [
    {
     "data": {
      "image/png": "[encoded data removed]",
      "text/plain": [
       "<Figure size 432x288 with 1 Axes>"
      ]
     },
     "metadata": {
      "needs_background": "light",
      "tags": []
     },
     "output_type": "display_data"
    }
   ],
   "source": [
    "import numpy as np\n",
    "import matplotlib.pyplot as plt\n",
    "\n",
    "def f(x):\n",
    "  return (x**3 - 2*(x**2) - 11*x + 12)\n",
    "\n",
    "x = np.arange(-4, 4, 0.1)\n",
    "\n",
    "\n",
    "plt.plot(x,f(x))\n",
    "\n",
    "plt.grid()\n",
    "plt.show()"
   ]
  },
  {
   "cell_type": "markdown",
   "metadata": {
    "id": "rWMVzm8QSKmX"
   },
   "source": [
    "A diferença de resultados se dá pois os pontos escolhidos estão muito próximos de um ponto de inflexão da curva, como podemos ver no gráfico acima."
   ]
  },
  {
   "cell_type": "code",
   "execution_count": null,
   "metadata": {
    "id": "gKWFrZkuSwGf"
   },
   "outputs": [],
   "source": []
  }
 ],
 "metadata": {
  "colab": {
   "collapsed_sections": [],
   "name": "trabalho 1.ipynb",
   "provenance": []
  },
  "kernelspec": {
   "display_name": "Python 3",
   "language": "python",
   "name": "python3"
  },
  "language_info": {
   "codemirror_mode": {
    "name": "ipython",
    "version": 3
   },
   "file_extension": ".py",
   "mimetype": "text/x-python",
   "name": "python",
   "nbconvert_exporter": "python",
   "pygments_lexer": "ipython3",
   "version": "3.8.8"
  }
 },
 "nbformat": 4,
 "nbformat_minor": 1
}
