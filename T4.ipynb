{
 "cells": [
  {
   "cell_type": "markdown",
   "metadata": {
    "id": "4W-nuDYGpOST"
   },
   "source": [
    "# Trabalho T4 \n",
    "# Métodos Numéricos Computacionais/Cálculo Numérico\n",
    "## UFSM - 2º Semestre de 2020"
   ]
  },
  {
   "cell_type": "markdown",
   "metadata": {
    "id": "wZJiODZ6pOSU"
   },
   "source": [
    "### Nomes dos integrantes do grupo: Enzo Massaki Ito, Juan Manuel Silva Fervenza, Odete Lara Melo Budtinger"
   ]
  },
  {
   "cell_type": "markdown",
   "metadata": {
    "id": "O9R9rpr4pOSV"
   },
   "source": [
    "# 1.\n",
    "\n",
    "**(a)** Calcule o valor exato da integral\n",
    "\t$$\n",
    "\t\\int_{0}^{0.8} 0.2 + 25x - 200x^2 + 675x^3 - 900x^4 + 400x^5 dx.\n",
    "\t$$\n",
    "\t\n",
    "**(b)** Utilize a regra 3/8 de Simpson para estimá-la usando 4 pontos equidistantes.\n",
    "\t\n",
    "**(c)** Utilize dos trápezios conjuntamente com a regra 3/8 de Simpson para estimar a mesma integral usando 5 pontos equidistantes.\n",
    "\t\n",
    "\t"
   ]
  },
  {
   "cell_type": "markdown",
   "metadata": {
    "id": "RB-6P9-6yf8R"
   },
   "source": [
    "###a)\n",
    "Observe que a primitiva é $f(x)=0.2x+\\dfrac{25}{2}x^2-\\dfrac{200}{3}x^3+\\dfrac{675}{4}x^4-\\dfrac{900}{5}x^5+\\dfrac{400}{6}x^6+C$.\n",
    "\n",
    "Dessa forma o valor exato da integral no intervalo $[0,0.8]$ é:"
   ]
  },
  {
   "cell_type": "code",
   "execution_count": null,
   "metadata": {
    "colab": {
     "base_uri": "https://localhost:8080/"
    },
    "id": "7_52mx-spOSW",
    "outputId": "b9c2f197-0190-421f-c760-a1e79c4b52ae"
   },
   "outputs": [
    {
     "name": "stdout",
     "output_type": "stream",
     "text": [
      "O valor da Integral definida é: 1.6405333333333374\n"
     ]
    }
   ],
   "source": [
    "f = lambda x: 0.2*x+(25/2)*x**2-(200/3)*x**3+(675/4)*x**4-(900/5)*x**5+(400/6)*x**6\n",
    "\n",
    "print(\"O valor da Integral definida é:\", f(0.8)-f(0))\n"
   ]
  },
  {
   "cell_type": "markdown",
   "metadata": {
    "id": "1fKo6Jfw1jFa"
   },
   "source": [
    "###b)\n",
    "Utilizando a Regra 3/8 de Simpson temos:\n"
   ]
  },
  {
   "cell_type": "code",
   "execution_count": null,
   "metadata": {
    "colab": {
     "base_uri": "https://localhost:8080/"
    },
    "id": "lJJLZ981pOSW",
    "outputId": "057e0254-9817-4c68-da33-563719c86e68"
   },
   "outputs": [
    {
     "name": "stdout",
     "output_type": "stream",
     "text": [
      "O resultado é:  1.5191703703703778\n"
     ]
    }
   ],
   "source": [
    "import numpy as np\n",
    "x0 = 0.0\n",
    "xn = 0.8\n",
    "n = 3\n",
    "h = (xn-x0)/n\n",
    "f = lambda x: 0.2+25*x-200*x**2+675*x**3-900*x**4+400*x**5\n",
    "\n",
    "X = np.linspace(x0, xn, n+1)\n",
    "\n",
    "I = (3*h/8)*(f(X[0]) + 3*np.sum(f(X[1:n:3])+f(X[2:n:3])) + 2*np.sum(f(X[3:n:3]))+ f(X[-1]))\n",
    "\n",
    "print (\"O resultado é: \", I)"
   ]
  },
  {
   "cell_type": "markdown",
   "metadata": {
    "id": "_c1NCb3p2cS9"
   },
   "source": [
    "###c)\n",
    "Utilizando a regra dos trapézios em $[0.0,0.2]$ temos:"
   ]
  },
  {
   "cell_type": "code",
   "execution_count": null,
   "metadata": {
    "colab": {
     "base_uri": "https://localhost:8080/"
    },
    "id": "gQm7-oTC24IU",
    "outputId": "56e53ec3-175a-42a4-927e-88eac5858c70"
   },
   "outputs": [
    {
     "name": "stdout",
     "output_type": "stream",
     "text": [
      "Resultado para trápezio 0.14879999999999996\n"
     ]
    }
   ],
   "source": [
    "import numpy as np\n",
    "x0 = 0.0\n",
    "xn = 0.2\n",
    "n = 1\n",
    "h = (xn-x0)/n\n",
    "f = lambda x: 0.2+25*x-200*x**2+675*x**3-900*x**4+400*x**5\n",
    "x = np.linspace(x0, xn, n+1)\n",
    "y = f(x)\n",
    "#print(x)\n",
    "#print(np.round(y,4))\n",
    "\n",
    "It = (h/2)*(y[0]+2*np.sum(y[1:n])+y[n])\n",
    "print(\"Resultado para trápezio\", It)"
   ]
  },
  {
   "cell_type": "markdown",
   "metadata": {
    "id": "7myHOT1HkpsK"
   },
   "source": [
    "Utilizando a regra $3/8$ de Simpson em $[0.2,0.8]$ temos:"
   ]
  },
  {
   "cell_type": "code",
   "execution_count": null,
   "metadata": {
    "colab": {
     "base_uri": "https://localhost:8080/"
    },
    "id": "18qhnnTRc_Hc",
    "outputId": "f3219b1d-184c-44c8-ac0b-085822290117"
   },
   "outputs": [
    {
     "name": "stdout",
     "output_type": "stream",
     "text": [
      "Resultado para 3/8:  1.446000000000006\n"
     ]
    }
   ],
   "source": [
    "import numpy as np\n",
    "\n",
    "x0 = 0.2\n",
    "xn = 0.8\n",
    "n = 3\n",
    "h = (xn-x0)/n\n",
    "f = lambda x: 0.2+25*x-200*x**2+675*x**3-900*x**4+400*x**5\n",
    "\n",
    "\n",
    "X = np.linspace(x0, xn, n+1)\n",
    "\n",
    "\n",
    "I = (3*h/8)*(f(X[0]) + 3*np.sum(f(X[1:n:3])+f(X[2:n:3])) + 2*np.sum(f(X[3:n:3]))+ f(X[-1]))\n",
    "\n",
    "print (\"Resultado para 3/8: \", I)"
   ]
  },
  {
   "cell_type": "code",
   "execution_count": null,
   "metadata": {
    "colab": {
     "base_uri": "https://localhost:8080/"
    },
    "id": "M2Y1kBJNdO9l",
    "outputId": "1ef455f5-8266-4edf-d352-bf4ce5766284"
   },
   "outputs": [
    {
     "name": "stdout",
     "output_type": "stream",
     "text": [
      "O resultado combinando os métodos é: 1.594800000000006\n"
     ]
    }
   ],
   "source": [
    "print('O resultado combinando os métodos é:', I+It)"
   ]
  },
  {
   "cell_type": "markdown",
   "metadata": {
    "id": "VmeOazT1q72E"
   },
   "source": [
    "Observe que o método utilizado em c) é melhor para aproximar essa integral do que utulizando apenas o método 3/8 de Simpson, já que estamos dividindo em intervalos menores."
   ]
  },
  {
   "cell_type": "markdown",
   "metadata": {
    "id": "5qM_DIQIpOSW"
   },
   "source": [
    "# 2. \n",
    "**(a)** Calcule o valor exato de $ \\int_1^4 \\sqrt x dx $.\n",
    "\t\n",
    "**(b)** Estime o número mínimo de subintervalos em que devemos dividir o intervalo $ [1, 4] $ para obter um erro inferior a $ 0.001 $ usando a regra dos trapézios generalizada, a regra 1/3 de Simpson generalizada e a regra 3/8 de Simpson generalizada.\n",
    "\t\n",
    "**(c)** Determine na prática, para cada um desses métodos, o número mínimo de subintervalos necessário para obter um erro $ < 0.001 $. Explique os resultados encontrados."
   ]
  },
  {
   "cell_type": "markdown",
   "metadata": {
    "id": "XzoKOX4H3DRn"
   },
   "source": [
    "###a)\n",
    "Observe que a primitiva é $\\dfrac{2}{3}x^{\\frac{3}{2} }+C$. Assim temos:"
   ]
  },
  {
   "cell_type": "code",
   "execution_count": null,
   "metadata": {
    "colab": {
     "base_uri": "https://localhost:8080/"
    },
    "id": "NgkfttFepOSW",
    "outputId": "cf6df1b2-d5a7-44c1-a845-7a9edcaec25a"
   },
   "outputs": [
    {
     "name": "stdout",
     "output_type": "stream",
     "text": [
      "O valor da Integral definida é: 4.666666666666666\n"
     ]
    }
   ],
   "source": [
    "f = lambda x: (2/3)*x**(3/2)\n",
    "\n",
    "print(\"O valor da Integral definida é:\", f(4.)-f(1.))"
   ]
  },
  {
   "cell_type": "markdown",
   "metadata": {
    "id": "gbssqJM85VZg"
   },
   "source": [
    "###b)\n",
    "\n",
    "utilizando a fórmula do erro:\n",
    "\n"
   ]
  },
  {
   "cell_type": "code",
   "execution_count": null,
   "metadata": {
    "colab": {
     "base_uri": "https://localhost:8080/",
     "height": 282
    },
    "id": "vdMc7bDvlemU",
    "outputId": "c994c7dd-3ff5-4b90-f0fe-c98c844adbec"
   },
   "outputs": [
    {
     "name": "stdout",
     "output_type": "stream",
     "text": [
      "Para analisar o máximo das derivadas 2 e 4 observe os gráficos\n"
     ]
    },
    {
     "data": {
      "image/png": "[encoded data removed]",
      "text/plain": [
       "<Figure size 432x288 with 1 Axes>"
      ]
     },
     "metadata": {
      "needs_background": "light",
      "tags": []
     },
     "output_type": "display_data"
    }
   ],
   "source": [
    "import matplotlib.pyplot as plt\n",
    "import numpy as np\n",
    "\n",
    "\n",
    "g = lambda x: abs(-(15)/(16*x**(7/2)))\n",
    "f= lambda x: abs(-(1)/(4*x**(2/3)))\n",
    "\n",
    "x = np.linspace(1., 4., num=100)\n",
    "print(\"Para analisar o máximo das derivadas 2 e 4 observe os gráficos\")\n",
    "plt.plot( x, f(x),'-', x, g(x),'--')\n",
    "plt.grid()\n",
    "plt.show()\n"
   ]
  },
  {
   "cell_type": "markdown",
   "metadata": {
    "id": "Y7A-TxUEliJc"
   },
   "source": [
    "Para a regra dos trapézios generalizada:"
   ]
  },
  {
   "cell_type": "code",
   "execution_count": null,
   "metadata": {
    "colab": {
     "base_uri": "https://localhost:8080/"
    },
    "id": "KN1SZ1blpOSX",
    "outputId": "0a01a7f7-82a2-49d7-aa7c-f175976535b5"
   },
   "outputs": [
    {
     "data": {
      "text/plain": [
       "0.12649110640673517"
      ]
     },
     "execution_count": 91,
     "metadata": {
      "tags": []
     },
     "output_type": "execute_result"
    }
   ],
   "source": [
    "import numpy as np\n",
    "xn=4\n",
    "x0=1\n",
    "h1=np.sqrt((0.001*12.)/((xn-x0)*abs(((-1./(4.*1.**(3./2.)))))))\n",
    "h1"
   ]
  },
  {
   "cell_type": "code",
   "execution_count": null,
   "metadata": {
    "colab": {
     "base_uri": "https://localhost:8080/"
    },
    "id": "JSVLYQsVL5wY",
    "outputId": "b61fe481-ae74-4fbf-d5a1-d5f7a9eedd5b"
   },
   "outputs": [
    {
     "name": "stdout",
     "output_type": "stream",
     "text": [
      "O número de intervalos são 24\n"
     ]
    }
   ],
   "source": [
    "n=1\n",
    "a=(xn-x0)\n",
    "while (a/n)>h1:\n",
    "  n=n+1\n",
    "print(\"O número de intervalos são\", n)"
   ]
  },
  {
   "cell_type": "markdown",
   "metadata": {
    "id": "68UBoTMR5hAs"
   },
   "source": [
    "Para a regra 1/3 de Simpson generalizada"
   ]
  },
  {
   "cell_type": "code",
   "execution_count": null,
   "metadata": {
    "colab": {
     "base_uri": "https://localhost:8080/"
    },
    "id": "WSlqeEHx6tUI",
    "outputId": "a4474098-397e-4deb-8027-8a32b7df20ea"
   },
   "outputs": [
    {
     "data": {
      "text/plain": [
       "0.5029733718731741"
      ]
     },
     "execution_count": 93,
     "metadata": {
      "tags": []
     },
     "output_type": "execute_result"
    }
   ],
   "source": [
    "import numpy as np\n",
    "xn=4\n",
    "x0=1\n",
    "h1=np.sqrt(np.sqrt((0.001*180.)/((xn-x0)*abs(((-15./(16.*1.**(7./2.))))))))\n",
    "h1"
   ]
  },
  {
   "cell_type": "code",
   "execution_count": null,
   "metadata": {
    "colab": {
     "base_uri": "https://localhost:8080/"
    },
    "id": "n1qhfae5QSve",
    "outputId": "7e35303f-f2b4-4871-ff39-2d54e44d9df9"
   },
   "outputs": [
    {
     "name": "stdout",
     "output_type": "stream",
     "text": [
      "O número de intervalos é 6\n"
     ]
    }
   ],
   "source": [
    "n=1\n",
    "a=(xn-x0)\n",
    "while (a/n)>h1:\n",
    "  n=n+1\n",
    "if n%2==0:\n",
    "  m=n\n",
    "else:\n",
    "  m=n+1\n",
    "print(\"O número de intervalos é\",m)"
   ]
  },
  {
   "cell_type": "markdown",
   "metadata": {
    "id": "fEeaU1Wu5nj8"
   },
   "source": [
    "Para a regra 3/8 de Simpson Generalizada"
   ]
  },
  {
   "cell_type": "code",
   "execution_count": null,
   "metadata": {
    "colab": {
     "base_uri": "https://localhost:8080/"
    },
    "id": "SSE3BwEQ5nQa",
    "outputId": "41e660e7-619f-4ba2-ef2a-d127e9ceaafe"
   },
   "outputs": [
    {
     "data": {
      "text/plain": [
       "0.2903918116461909"
      ]
     },
     "execution_count": 95,
     "metadata": {
      "tags": []
     },
     "output_type": "execute_result"
    }
   ],
   "source": [
    "import numpy as np\n",
    "xn=4\n",
    "x0=1\n",
    "h1=np.sqrt(np.sqrt((0.001*80.)/((xn-x0)*abs(((-15./(4.*1.**(7./2.))))))))\n",
    "h1"
   ]
  },
  {
   "cell_type": "code",
   "execution_count": null,
   "metadata": {
    "colab": {
     "base_uri": "https://localhost:8080/"
    },
    "id": "vpngZ6FVQqea",
    "outputId": "b26504c5-4d2c-439b-a013-24266e027fef"
   },
   "outputs": [
    {
     "name": "stdout",
     "output_type": "stream",
     "text": [
      "O número de intervalos é 12\n"
     ]
    }
   ],
   "source": [
    "n=1\n",
    "a=(xn-x0)\n",
    "while (a/n)>h1:\n",
    "  n=n+1\n",
    "if n%3==0:\n",
    "  m=n\n",
    "elif (n+1)%3==0:\n",
    "  m=n+1\n",
    "else:\n",
    "  m=m+2\n",
    "print(\"O número de intervalos é\",m)"
   ]
  },
  {
   "cell_type": "markdown",
   "metadata": {
    "id": "ar9THPF1z45v"
   },
   "source": [
    "###c)\n",
    "Fazendo as diferenças do resultado exato com resultados obtidos a cada número de intervalos considerados"
   ]
  },
  {
   "cell_type": "markdown",
   "metadata": {
    "id": "68NVBSGN2mMD"
   },
   "source": [
    "Para a regra dos trapézios"
   ]
  },
  {
   "cell_type": "code",
   "execution_count": null,
   "metadata": {
    "colab": {
     "base_uri": "https://localhost:8080/"
    },
    "id": "FPRPSvh12nh-",
    "outputId": "11a804a0-7573-44c9-e2b8-0d488420238e"
   },
   "outputs": [
    {
     "name": "stdout",
     "output_type": "stream",
     "text": [
      "O número de intervalos é: 14\n"
     ]
    }
   ],
   "source": [
    "import numpy as np\n",
    "x0 = 1.0\n",
    "xn = 4.0\n",
    "n = 1\n",
    "h = (xn-x0)/n\n",
    "f = lambda x: np.sqrt(x)\n",
    "x = np.linspace(x0, xn, n+1)\n",
    "y = f(x)\n",
    "it = (h/2)*(y[0]+2*np.sum(y[1:n])+y[n])\n",
    "g = lambda x: (2/3)*x**(3/2)\n",
    "In=g(4.)-g(1.)\n",
    "\n",
    "while abs(In-it)>0.001:\n",
    "  n=n+1\n",
    "  h = (xn-x0)/n\n",
    "  f = lambda x: np.sqrt(x)\n",
    "  x = np.linspace(x0, xn, n+1)\n",
    "  y = f(x)\n",
    "  it = (h/2)*(y[0]+2*np.sum(y[1:n])+y[n])\n",
    "#print(\"erro é:\", abs(it-In))\n",
    "print(\"O número de intervalos é:\", n)\n",
    "\n"
   ]
  },
  {
   "cell_type": "markdown",
   "metadata": {
    "id": "bSLUeAVo1xeA"
   },
   "source": [
    "Para a regra 1/8 de Simpson"
   ]
  },
  {
   "cell_type": "code",
   "execution_count": null,
   "metadata": {
    "colab": {
     "base_uri": "https://localhost:8080/"
    },
    "id": "rpx0aD_e1yh4",
    "outputId": "5820ae05-081a-4cc0-86c5-0bf7a45cb340"
   },
   "outputs": [
    {
     "name": "stdout",
     "output_type": "stream",
     "text": [
      "O número de intervalos é: 4\n"
     ]
    }
   ],
   "source": [
    "import numpy as np\n",
    "x0 = 1.0\n",
    "xn = 4.0\n",
    "n = 2\n",
    "h = (xn-x0)/n\n",
    "f = lambda x: np.sqrt(x)\n",
    "x = np.linspace(x0, xn, n+1)\n",
    "y = f(X)\n",
    "I = (h/3)*(y[0] + 4*np.sum(y[1:n:2]) + 2*np.sum(y[2:n:2]) +y[-1])\n",
    "g = lambda x: (2/3)*x**(3/2)\n",
    "In=g(4.)-g(1.)\n",
    "\n",
    "while abs(I-it)>0.001:\n",
    "  n=n+2\n",
    "  h = (xn-x0)/n\n",
    "  f = lambda x: np.sqrt(x)\n",
    "  x = np.linspace(x0, xn, n+1)\n",
    "  y = f(x)\n",
    "  I = (h/3)*(y[0] + 4*np.sum(y[1:n:2]) + 2*np.sum(y[2:n:2]) +y[-1])\n",
    "#print(\"erro é:\",abs(I-In))\n",
    "print(\"O número de intervalos é:\", n)\n",
    "\n"
   ]
  },
  {
   "cell_type": "markdown",
   "metadata": {
    "id": "tFKVf7Xl0MOp"
   },
   "source": [
    "Para a regra 3/8 de Simpson\n"
   ]
  },
  {
   "cell_type": "code",
   "execution_count": null,
   "metadata": {
    "colab": {
     "base_uri": "https://localhost:8080/"
    },
    "id": "zmDOcgic0L1E",
    "outputId": "b3d8c07f-1cb1-4405-db9c-25ae8c7abf55"
   },
   "outputs": [
    {
     "name": "stdout",
     "output_type": "stream",
     "text": [
      "O número de intervalos é: 6\n"
     ]
    }
   ],
   "source": [
    "import numpy as np\n",
    "x0 = 1.0\n",
    "xn = 4.0\n",
    "n = 3\n",
    "h = (xn-x0)/n\n",
    "f = lambda x: np.sqrt(x)\n",
    "X = np.linspace(x0, xn, n+1)\n",
    "y = f(X)\n",
    "I = (3*h/8)*(f(X[0]) + 3*np.sum(f(X[1:n:3])+f(X[2:n:3])) + 2*np.sum(f(X[3:n:3]))+ f(X[-1]))\n",
    "g = lambda x: (2/3)*x**(3/2)\n",
    "In=g(4.)-g(1.)\n",
    "\n",
    "while abs(I-it)>0.001:\n",
    "  n=n+3\n",
    "  h = (xn-x0)/n\n",
    "  f = lambda x: np.sqrt(x)\n",
    "  X = np.linspace(x0, xn, n+1)\n",
    "  y = f(X)\n",
    "  I = (3*h/8)*(f(X[0]) + 3*np.sum(f(X[1:n:3])+f(X[2:n:3])) + 2*np.sum(f(X[3:n:3]))+ f(X[-1]))\n",
    "#print(\"erro é:\",abs(I-In))\n",
    "print(\"O número de intervalos é:\", n)"
   ]
  },
  {
   "cell_type": "markdown",
   "metadata": {
    "id": "fTZL9afSNCEg"
   },
   "source": [
    "Em b) calculamos o número de intervalos que teriamos certeza que o erro seria menor que 0.001 utilizando a fórmula do erro, em c) verificamos que não precisamos desse número de intervalos para obtermos um erro inferior, dessa forma, concluimos que todo o esforço computacional realizado no primeiro método talvez não seja necessário e valeria a pena descobrir esses intervalos na prática, pois pelo que analisamos encontramos um número bem menor do que aquele que prevemos."
   ]
  },
  {
   "cell_type": "markdown",
   "metadata": {
    "id": "IsJ7H7R-pOSX"
   },
   "source": [
    "# 3.\n",
    "Pesquise sobre a função erro de Gauss $ \\textbf{erf}(x) $ e como expressá-la. A seguir, estime $ \\textbf{erf}(1.5) $ e o erro cometido utilizando um método de sua escolha.\n",
    "\t"
   ]
  },
  {
   "cell_type": "markdown",
   "metadata": {
    "id": "arfMnoywT3n0"
   },
   "source": [
    "A função erro de Gauss é utilizada muito utilizada em probabilidade, para calcular a integral de uma distribuição normal.\n",
    "\n",
    "Essa função $erf(x)$ é expressa dessa forma: $erf(x)=\\dfrac{2}{\\sqrt{\\pi}} \\int_{0}^{x} e^{-t^2} \\,dt $\n"
   ]
  },
  {
   "cell_type": "code",
   "execution_count": null,
   "metadata": {
    "colab": {
     "base_uri": "https://localhost:8080/",
     "height": 283
    },
    "id": "lYSwEAq_u_GI",
    "outputId": "a27310dc-6d90-4dec-868c-3a537f176f11"
   },
   "outputs": [
    {
     "name": "stdout",
     "output_type": "stream",
     "text": [
      "Para analisar o máximo da derivada 4 observe os gráfico\n"
     ]
    },
    {
     "data": {
      "image/png": "[encoded data removed]",
      "text/plain": [
       "<Figure size 432x288 with 1 Axes>"
      ]
     },
     "metadata": {
      "needs_background": "light",
      "tags": []
     },
     "output_type": "display_data"
    }
   ],
   "source": [
    "import matplotlib.pyplot as plt\n",
    "import numpy as np\n",
    "\n",
    "\n",
    "f = lambda x: abs(-4*(-8*np.exp(-(x**2))*x**4+24*np.exp(-(x**2))*x**2-6*np.exp(-(x**2)))/np.sqrt(np.pi))\n",
    "\n",
    "\n",
    "x = np.linspace(0, 1.5, num=100)\n",
    "print(\"Para analisar o máximo da derivada 4 observe os gráfico\")\n",
    "plt.plot( x, f(x),'-')\n",
    "plt.grid()\n",
    "plt.show()"
   ]
  },
  {
   "cell_type": "markdown",
   "metadata": {
    "id": "HCzw4A6vvVp6"
   },
   "source": [
    "Utilizando a regra 1/8 de Simpson\n",
    "\n",
    "\n",
    "\n"
   ]
  },
  {
   "cell_type": "code",
   "execution_count": null,
   "metadata": {
    "colab": {
     "base_uri": "https://localhost:8080/"
    },
    "id": "byL0YTPspOSX",
    "outputId": "e733d0fd-79c8-4b63-96ec-775b03d1b876"
   },
   "outputs": [
    {
     "name": "stdout",
     "output_type": "stream",
     "text": [
      "o valor de erf(1.5) é aproximadamente:  0.9661051461741637\n"
     ]
    }
   ],
   "source": [
    "import numpy as np\n",
    "x0 = 0.0\n",
    "xn = 1.5\n",
    "n = 100\n",
    "h = (xn-x0)/n\n",
    "f = lambda x: np.exp(-(x**2))\n",
    "x = np.linspace(x0, xn, n+1)\n",
    "#print (np.round(x,4))\n",
    "y = f(x)\n",
    "#print (np.round(y, 4))\n",
    "\n",
    "I = (h/3)*(y[0] + 4*np.sum(y[1:n:2]) + 2*np.sum(y[2:n:2]) +y[-1])\n",
    "y=(2/(np.sqrt(np.pi)))*I\n",
    "print('o valor de erf(1.5) é aproximadamente: ', y)"
   ]
  },
  {
   "cell_type": "code",
   "execution_count": null,
   "metadata": {
    "colab": {
     "base_uri": "https://localhost:8080/"
    },
    "id": "rsDojBlivhNd",
    "outputId": "e3eb271d-60bf-4299-d8c7-c0b0de9410cf"
   },
   "outputs": [
    {
     "name": "stdout",
     "output_type": "stream",
     "text": [
      "O majorante para o erro é 5.7124195334210314e-09\n"
     ]
    }
   ],
   "source": [
    "x0 = 0.0\n",
    "xn = 1.5\n",
    "n = 100\n",
    "\n",
    "# A derivada\n",
    "f = lambda x: abs(-4*(-8*np.exp(-(x**2))*x**4+24*np.exp(-(x**2))*x**2-6*np.exp(-(x**2)))/np.sqrt(np.pi))\n",
    "\n",
    "y=((h**4)/180)*(xn-x0)*f(0)\n",
    "print(\"O majorante para o erro é\", y)"
   ]
  },
  {
   "cell_type": "markdown",
   "metadata": {
    "id": "J4RyWp5ZOh5C"
   },
   "source": [
    "Observamos que temos uma boa aproximação para o resultado exato."
   ]
  },
  {
   "cell_type": "markdown",
   "metadata": {
    "id": "jwM3YSLPpOSY"
   },
   "source": [
    "# 4.\n",
    "Dados o seguinte PVI e sua solução exata (analítica), pede-se:\n",
    "\t\n",
    "**(a)** Use o método de Euler para estimar $ u(t) $ com os passos 0.25, 0.10 e 0.05.\n",
    "\tMostre os resultados obtidos para valores de $ i $, $ t_i $, $ u_i $ e $ k $;\n",
    "\t\n",
    "**(b)** Plote os pontos ($ t_i $, $ u_i $) calculados juntamente com a solução exata;\n",
    "\t\n",
    "**(c)**  Determine o maior erro cometido em cada caso e comente os resultados obtidos.\n",
    "\t$$\n",
    "\t\\begin{cases}\n",
    "\tu' = t^2(5-u),\\qquad 0 \\leq t \\leq 2\\\\\n",
    "\tu(0) = 0\t\n",
    "\t\\end{cases}\n",
    "\t$$\n",
    "\t\n",
    "Solução exata: $ u(x) = 5-5e^{-t^3/3} $."
   ]
  },
  {
   "cell_type": "markdown",
   "metadata": {
    "id": "4yzpPW-bMUBR"
   },
   "source": [
    "Para $h = 0.25$ temos"
   ]
  },
  {
   "cell_type": "code",
   "execution_count": null,
   "metadata": {
    "colab": {
     "base_uri": "https://localhost:8080/",
     "height": 301
    },
    "id": "_BYfs8rspOSY",
    "outputId": "47062f55-5f63-4e66-a6d5-41fe9cf5a076"
   },
   "outputs": [
    {
     "name": "stdout",
     "output_type": "stream",
     "text": [
      "pontos xi: [0.   0.25 0.5  0.75 1.   1.25 1.5  1.75 2.  ]\n",
      "pontos yi: [0.0, 0.0, 0.078125, 0.3857421875, 1.0346221923828125, 2.0259666442871094, 3.1876984238624573, 4.207118060439825, 4.814168295415584]\n"
     ]
    },
    {
     "data": {
      "image/png": "[encoded data removed]",
      "text/plain": [
       "<Figure size 432x288 with 1 Axes>"
      ]
     },
     "metadata": {
      "needs_background": "light",
      "tags": []
     },
     "output_type": "display_data"
    }
   ],
   "source": [
    "import numpy as np\n",
    "import matplotlib.pyplot as plt\n",
    "\n",
    "h = 0.25 #passo\n",
    "x0 = 0.0\n",
    "xn = 2.0\n",
    "\n",
    "# criamos a lista com os pontos xi\n",
    "X = np.arange(x0, xn+h, h) \n",
    "print (\"pontos xi:\", X)\n",
    "\n",
    "# lista com y0, a ser preenchida pelos yi\n",
    "Y = [0.0]                  \n",
    "\n",
    "# entramos com f(x,y)\n",
    "f = lambda x,y: (x**2)*(5-y)\n",
    "\n",
    "# laço para ir calculando os yi e preenchendo a lista\n",
    "for n in range(len(X)-1):\n",
    "    Y.append(Y[n] + f(X[n],Y[n])*h ) #Y[-1] é o último yi calculado\n",
    "    \n",
    "# imprime\n",
    "print (\"pontos yi:\", Y)\n",
    "s = lambda x: 5-5*np.exp((-x**3)/3)\n",
    "Xe = np.linspace(x0,xn, 20)\n",
    "Ye = s(Xe)\n",
    "\n",
    "\n",
    "# plota\n",
    "plt.plot(X, Y, \"r-\", Xe, Ye, \"b-\")\n",
    "plt.grid()\n",
    "plt.show()"
   ]
  },
  {
   "cell_type": "markdown",
   "metadata": {
    "id": "GU4pWnKPMe9I"
   },
   "source": [
    "Para $h =0.10$ "
   ]
  },
  {
   "cell_type": "code",
   "execution_count": null,
   "metadata": {
    "colab": {
     "base_uri": "https://localhost:8080/",
     "height": 336
    },
    "id": "YHlRc2qLpOSY",
    "outputId": "fc526356-b034-4f9d-9df1-ec55cdc83b14"
   },
   "outputs": [
    {
     "name": "stdout",
     "output_type": "stream",
     "text": [
      "pontos xi: [0.  0.1 0.2 0.3 0.4 0.5 0.6 0.7 0.8 0.9 1.  1.1 1.2 1.3 1.4 1.5 1.6 1.7\n",
      " 1.8 1.9 2. ]\n",
      "pontos yi: [0.0, 0.0, 0.005000000000000001, 0.024980000000000006, 0.06975518000000001, 0.14863909712000006, 0.26992311969200006, 0.44020588738308813, 0.6636357989013169, 0.9411631077716327, 1.2699288960421304, 1.6429360064379175, 2.0491407496589296, 2.474064481708044, 2.9009475842993844, 3.3123618577767053, 3.6920804397769467, 4.026907847194049, 4.3081314793549685, 4.532296880043959, 4.70113770634809]\n"
     ]
    },
    {
     "data": {
      "image/png": "[encoded data removed]",
      "text/plain": [
       "<Figure size 432x288 with 1 Axes>"
      ]
     },
     "metadata": {
      "needs_background": "light",
      "tags": []
     },
     "output_type": "display_data"
    }
   ],
   "source": [
    "import numpy as np\n",
    "import matplotlib.pyplot as plt\n",
    "\n",
    "h = 0.10 #passo\n",
    "x0 = 0.0\n",
    "xn = 2.0\n",
    "\n",
    "# criamos a lista com os pontos xi\n",
    "X = np.arange(x0, xn+h, h) \n",
    "print (\"pontos xi:\", X)\n",
    "\n",
    "# lista com y0, a ser preenchida pelos yi\n",
    "Y = [0.0]                  \n",
    "\n",
    "# entramos com f(x,y)\n",
    "f = lambda x,y: (x**2)*(5-y)\n",
    "\n",
    "# laço para ir calculando os yi e preenchendo a lista\n",
    "for n in range(len(X)-1):\n",
    "    Y.append(Y[n] + f(X[n],Y[n])*h ) #Y[-1] é o último yi calculado\n",
    "    \n",
    "# imprime\n",
    "print (\"pontos yi:\", Y)\n",
    "s = lambda x: 5-5*np.exp((-x**3)/3)\n",
    "Xe = np.linspace(x0,xn, 20)\n",
    "Ye = s(Xe)\n",
    "\n",
    "\n",
    "# plota\n",
    "plt.plot(X, Y, \"r-\", Xe, Ye, \"b-\")\n",
    "plt.grid()\n",
    "plt.show()"
   ]
  },
  {
   "cell_type": "markdown",
   "metadata": {
    "id": "vuRL700-Mm7w"
   },
   "source": [
    "Para $h=0.05$"
   ]
  },
  {
   "cell_type": "code",
   "execution_count": null,
   "metadata": {
    "colab": {
     "base_uri": "https://localhost:8080/",
     "height": 353
    },
    "id": "70ZfVbGupOSY",
    "outputId": "56cd05e1-7a4f-4d60-9e46-08723012d066"
   },
   "outputs": [
    {
     "name": "stdout",
     "output_type": "stream",
     "text": [
      "pontos xi: [0.   0.05 0.1  0.15 0.2  0.25 0.3  0.35 0.4  0.45 0.5  0.55 0.6  0.65\n",
      " 0.7  0.75 0.8  0.85 0.9  0.95 1.   1.05 1.1  1.15 1.2  1.25 1.3  1.35\n",
      " 1.4  1.45 1.5  1.55 1.6  1.65 1.7  1.75 1.8  1.85 1.9  1.95 2.  ]\n",
      "pontos yi: [0.0, 0.0, 0.0006250000000000001, 0.0031246875000000003, 0.008746172226562503, 0.018728679882109384, 0.03429515275747779, 0.05664082457006915, 0.08691889951957749, 0.12622354832342086, 0.17557053489664623, 0.23587590321043816, 0.3079332801743803, 0.39239048113124153, 0.48972623221734407, 0.6002279395280192, 0.7239715287287937, 0.8608044398094723, 1.010332879421355, 1.1719143978047901, 1.3446567606038489, 1.5274239225736563, 1.7188496788417835, 1.9173592732718556, 2.1211988913267543, 2.328472571151228, 2.5371856515300384, 2.74529346397575, 2.95075359707096, 3.151579744558006, 3.3458949239113456, 3.5319817449713193, 3.7083274378566395, 3.8736615258109897, 4.026984350609968, 4.167585111946828, 4.29504864167997, 4.409250761727815, 4.510342725127143, 4.598725863241693, 4.675018108492866]\n"
     ]
    },
    {
     "data": {
      "image/png": "[encoded data removed]",
      "text/plain": [
       "<Figure size 432x288 with 1 Axes>"
      ]
     },
     "metadata": {
      "needs_background": "light",
      "tags": []
     },
     "output_type": "display_data"
    }
   ],
   "source": [
    "import numpy as np\n",
    "import matplotlib.pyplot as plt\n",
    "\n",
    "h = 0.05 #passo\n",
    "x0 = 0.0\n",
    "xn = 2.0\n",
    "\n",
    "# criamos a lista com os pontos xi\n",
    "X = np.arange(x0, xn+h, h) \n",
    "print (\"pontos xi:\", X)\n",
    "\n",
    "# lista com y0, a ser preenchida pelos yi\n",
    "Y = [0.0]                  \n",
    "\n",
    "# entramos com f(x,y)\n",
    "f = lambda x,y: (x**2)*(5-y)\n",
    "\n",
    "# laço para ir calculando os yi e preenchendo a lista\n",
    "for n in range(len(X)-1):\n",
    "    Y.append(Y[n] + f(X[n],Y[n])*h ) #Y[-1] é o último yi calculado\n",
    "    \n",
    "# imprime\n",
    "print (\"pontos yi:\", Y)\n",
    "s = lambda x: 5-5*np.exp((-x**3)/3)\n",
    "Xe = np.linspace(x0,xn, 20)\n",
    "Ye = s(Xe)\n",
    "\n",
    "\n",
    "# plota\n",
    "plt.plot(X, Y, \"r-\", Xe, Ye, \"b-\")\n",
    "plt.grid()\n",
    "plt.show()"
   ]
  },
  {
   "cell_type": "markdown",
   "metadata": {
    "id": "EI65mIq4M16X"
   },
   "source": [
    "Temos que o erro é dado pela seguinte desigualdade $|E| \\leq A = \\frac{\\mathrm{M} h^{2}}{2 !}$, sendo que $M$ é dado por $M=\\operatorname{máx}\\left\\{\\left|y^{\\prime \\prime}(x)\\right|, x \\in[a, b]\\right\\}$. Como $$u''(x) =\\left(10 x \\exp \\left(-\\frac{x^{3}}{3}\\right)-5 x^{4} \\exp \\left(-\\frac{x^{3}}{3}\\right)\\right).$$ Seja $h=0.25$, temos que "
   ]
  },
  {
   "cell_type": "code",
   "execution_count": null,
   "metadata": {
    "colab": {
     "base_uri": "https://localhost:8080/"
    },
    "id": "S4JFlYlAMsfb",
    "outputId": "22c5d6bb-4508-47db-e2ff-57032257639b"
   },
   "outputs": [
    {
     "name": "stdout",
     "output_type": "stream",
     "text": [
      "0.16168543621801051\n"
     ]
    }
   ],
   "source": [
    "x = 0.70757\n",
    "h = 0.25\n",
    "M = 10*x*np.exp((-x**3)/3) -5*(x**4)*np.exp((-x**3)/3)\n",
    "A = (M*(h**2)/2)\n",
    "\n",
    "print(A)"
   ]
  },
  {
   "cell_type": "markdown",
   "metadata": {
    "id": "t_OwpwZUOaW7"
   },
   "source": [
    "Para $h=0.10$"
   ]
  },
  {
   "cell_type": "code",
   "execution_count": null,
   "metadata": {
    "colab": {
     "base_uri": "https://localhost:8080/"
    },
    "id": "KFJAPC1UOYlZ",
    "outputId": "f7d93f47-99cd-41ac-b6a8-662127fbb614"
   },
   "outputs": [
    {
     "name": "stdout",
     "output_type": "stream",
     "text": [
      "0.025869669794881686\n"
     ]
    }
   ],
   "source": [
    "x = 0.70757\n",
    "h = 0.10\n",
    "M = 10*x*np.exp((-x**3)/3) -5*(x**4)*np.exp((-x**3)/3)\n",
    "A = (M*(h**2)/2)\n",
    "\n",
    "print(A)"
   ]
  },
  {
   "cell_type": "markdown",
   "metadata": {
    "id": "JXKkL0dhOhHX"
   },
   "source": [
    "Para $h=0.05$"
   ]
  },
  {
   "cell_type": "code",
   "execution_count": null,
   "metadata": {
    "colab": {
     "base_uri": "https://localhost:8080/"
    },
    "id": "dUxfPOhLOfYy",
    "outputId": "30566d91-4136-4c53-ed99-488981518d5b"
   },
   "outputs": [
    {
     "name": "stdout",
     "output_type": "stream",
     "text": [
      "0.0064674174487204215\n"
     ]
    }
   ],
   "source": [
    "x = 0.70757\n",
    "h = 0.05\n",
    "M = 10*x*np.exp((-x**3)/3) -5*(x**4)*np.exp((-x**3)/3)\n",
    "A = (M*(h**2)/2)\n",
    "\n",
    "print(A)"
   ]
  },
  {
   "cell_type": "markdown",
   "metadata": {
    "id": "97ExfYgHOly-"
   },
   "source": [
    "De acordo com os resultados obtidos, juntamente com os gráficos, podemos observar que a medida que vamos diminuindo $h$, vamos tambem reduzindo o erro cometido, o que é confirmado pelos gráficos obtidos. Portanto o a resolução computacional aplicada aqui é boa."
   ]
  }
 ],
 "metadata": {
  "colab": {
   "collapsed_sections": [],
   "name": "T4_modelo.ipynb",
   "provenance": []
  },
  "kernelspec": {
   "display_name": "Python 3",
   "language": "python",
   "name": "python3"
  },
  "language_info": {
   "codemirror_mode": {
    "name": "ipython",
    "version": 3
   },
   "file_extension": ".py",
   "mimetype": "text/x-python",
   "name": "python",
   "nbconvert_exporter": "python",
   "pygments_lexer": "ipython3",
   "version": "3.8.8"
  }
 },
 "nbformat": 4,
 "nbformat_minor": 1
}
