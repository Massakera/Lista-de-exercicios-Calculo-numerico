{
 "cells": [
  {
   "cell_type": "markdown",
   "metadata": {
    "id": "9QyCrOFYjfHQ"
   },
   "source": [
    "# Trabalho T3 - Interpolação, ajuste de curvas e mínimos quadrados\n",
    "# Métodos Numéricos Computacionais/Cálculo Numérico\n",
    "## UFSM - 2º Semestre de 2020"
   ]
  },
  {
   "cell_type": "markdown",
   "metadata": {
    "id": "-uDlTZLOjfHS"
   },
   "source": [
    "### Nomes dos integrantes do grupo: Enzo Massaki Ito, Juan Manuel Silva Fervenza, Odete Lara Melo Budtinger"
   ]
  },
  {
   "cell_type": "markdown",
   "metadata": {
    "id": "fte4ZR1djfHT"
   },
   "source": [
    "# 1.\n",
    "O volume específico de um vapor superaquecido está listado nas tabelas de vapor para diversas temperaturas. Por exemplo, na pressão absoluta de 3000 lb/pol$^2$:\n",
    "\n",
    "\\begin{array}{|l|l|l|l|l|l|}\t\t\t\\hline\n",
    "T (^\\circ F)  &700 &720 &740 &760 &780 \\\\ \\hline\n",
    "v (\\text{ pes$^3$/lb$_m$}) &0,0977 &0,12184 &0,14060 &0,15509 &0,16643  \\\\\\hline\n",
    "\\end{array}\n",
    "\t\n",
    "Determine $v$ para $T = 750 ^\\circ F$ usando interpolação, use a fórmula de Lagrange e a fórmula de Newton e compare o resultado. Comente o que você observou.\n",
    "\t\n",
    "\t"
   ]
  },
  {
   "cell_type": "markdown",
   "metadata": {
    "id": "BOmWxvVconRy"
   },
   "source": [
    "###Usando a Fórmula de Lagrange"
   ]
  },
  {
   "cell_type": "code",
   "execution_count": null,
   "metadata": {
    "colab": {
     "base_uri": "https://localhost:8080/",
     "height": 265
    },
    "id": "WPdyWQnPjfHU",
    "outputId": "97777b10-51e8-43e3-86a4-6dcc56fa60d8"
   },
   "outputs": [
    {
     "data": {
      "image/png": "[encoded data removed]",
      "text/plain": [
       "<Figure size 432x288 with 1 Axes>"
      ]
     },
     "metadata": {
      "needs_background": "light",
      "tags": []
     },
     "output_type": "display_data"
    }
   ],
   "source": [
    "import matplotlib.pyplot as plt\n",
    "\n",
    "X = [700., 720., 740., 760.,780]\n",
    "Y = [0.0977, 0.12184, 0.14060,0.15509,0.16643]\n",
    "\n",
    "\n",
    "plt.plot(X, Y, \"o\") \n",
    "plt.grid()\n",
    "plt.show()\n",
    "\n",
    "\n"
   ]
  },
  {
   "cell_type": "code",
   "execution_count": null,
   "metadata": {
    "colab": {
     "base_uri": "https://localhost:8080/",
     "height": 282
    },
    "id": "SlPCcKzQokbO",
    "outputId": "b12842f8-2602-49f7-ab06-68741739852e"
   },
   "outputs": [
    {
     "data": {
      "image/png": "[encoded data removed]",
      "text/plain": [
       "<Figure size 432x288 with 1 Axes>"
      ]
     },
     "metadata": {
      "needs_background": "light",
      "tags": []
     },
     "output_type": "display_data"
    },
    {
     "name": "stdout",
     "output_type": "stream",
     "text": [
      "P( 750 ) = 0.148308984375\n"
     ]
    }
   ],
   "source": [
    "import numpy as np\n",
    "\n",
    "n = len(Y)\n",
    "\n",
    "def calculaP(x):\n",
    "    valor = 0\n",
    "    for k in range(n):\n",
    "        lk = 1.0\n",
    "        for i in range(n):\n",
    "            if k != i:\n",
    "                lk = lk*(x - X[i])/(X[k]-X[i])\n",
    "        valor = valor + Y[k]*lk \n",
    "    return valor\n",
    "\n",
    "Ynew = []\n",
    "Xnew = np.linspace(X[0], X[-1], num=21)\n",
    "for xnew in Xnew:\n",
    "    ynew = calculaP(xnew)\n",
    "    Ynew.append(ynew)\n",
    "\n",
    "plt.plot(X, Y, 'o', Xnew, Ynew,'-')\n",
    "plt.grid()\n",
    "plt.show()\n",
    "\n",
    "x = 750\n",
    "print (\"P(\",x,\") =\", calculaP(x))"
   ]
  },
  {
   "cell_type": "markdown",
   "metadata": {
    "id": "9Z-SClkhovMQ"
   },
   "source": [
    "###Usando a Fómula de Newton"
   ]
  },
  {
   "cell_type": "code",
   "execution_count": null,
   "metadata": {
    "colab": {
     "base_uri": "https://localhost:8080/",
     "height": 265
    },
    "id": "WtXXiK-yoyTt",
    "outputId": "20c6feb8-5ba8-4637-e9f1-6af285d6637d"
   },
   "outputs": [
    {
     "data": {
      "image/png": "[encoded data removed]",
      "text/plain": [
       "<Figure size 432x288 with 1 Axes>"
      ]
     },
     "metadata": {
      "needs_background": "light",
      "tags": []
     },
     "output_type": "display_data"
    }
   ],
   "source": [
    "import matplotlib.pyplot as plt\n",
    "import numpy as np\n",
    "\n",
    "\n",
    "X = [700., 720., 740., 760.,780]\n",
    "Y = [0.0977, 0.12184, 0.14060,0.15509,0.16643]\n",
    "\n",
    "plt.plot(X, Y, \"o\") \n",
    "plt.grid()\n",
    "plt.show()\n",
    "\n",
    "\n"
   ]
  },
  {
   "cell_type": "code",
   "execution_count": null,
   "metadata": {
    "colab": {
     "base_uri": "https://localhost:8080/"
    },
    "id": "m_nfQfmMrDtP",
    "outputId": "69617bb3-60b1-4d1e-d9f0-c0ef1ef5e166"
   },
   "outputs": [
    {
     "name": "stdout",
     "output_type": "stream",
     "text": [
      "P( 750 ) = 0.148308984375\n"
     ]
    }
   ],
   "source": [
    "dd = [Y]   \n",
    "n = len(X)\n",
    "for o in range(1, n):\n",
    "    dd.append([])\n",
    "    for k in range(0, n-o):\n",
    "        valor = (dd[o-1][k+1] - dd[o-1][k])/(X[k+o]-X[k])\n",
    "        dd[o].append(valor)\n",
    "def produtorio(x, n):\n",
    "    prod = 1\n",
    "    for i in range(n):\n",
    "        prod = prod * (x - X[i])\n",
    "    return prod\n",
    "\n",
    "def calculaP1(x):\n",
    "    soma = dd[0][0]\n",
    "    for i in range(1, len(X)):\n",
    "        soma = soma + produtorio(x,i)*dd[i][0]\n",
    "    return (soma)\n",
    "\n",
    "print(\"P(\",x,\") =\",calculaP1(750))\n"
   ]
  },
  {
   "cell_type": "code",
   "execution_count": null,
   "metadata": {
    "colab": {
     "base_uri": "https://localhost:8080/",
     "height": 265
    },
    "id": "P1P7iOD1rJtB",
    "outputId": "f8edd9b6-53bb-48a5-d210-8dfef056945c"
   },
   "outputs": [
    {
     "data": {
      "image/png": "[encoded data removed]",
      "text/plain": [
       "<Figure size 432x288 with 1 Axes>"
      ]
     },
     "metadata": {
      "needs_background": "light",
      "tags": []
     },
     "output_type": "display_data"
    }
   ],
   "source": [
    "Xp = np.linspace(700, 800, num=20)\n",
    "Yp = []\n",
    "for x in Xp:\n",
    "    y = calculaP(x)\n",
    "    Yp.append(y)\n",
    "    \n",
    "plt.plot(X, Y, 'ro', Xp, Yp,'-', )\n",
    "plt.grid()\n",
    "plt.show()"
   ]
  },
  {
   "cell_type": "markdown",
   "metadata": {
    "id": "DmKBVgd3BdT5"
   },
   "source": [
    "Observe que os valores aproximados obtidos com ambos os métodos são os mesmos, já que teremos o mesmo polinômio interpolador."
   ]
  },
  {
   "cell_type": "code",
   "execution_count": null,
   "metadata": {
    "colab": {
     "base_uri": "https://localhost:8080/"
    },
    "id": "ZV7A4rs0rfbP",
    "outputId": "f6fc2bca-377d-496b-b99d-b7a66f9e6e07"
   },
   "outputs": [
    {
     "name": "stdout",
     "output_type": "stream",
     "text": [
      "0.148308984375 0.148308984375\n"
     ]
    }
   ],
   "source": [
    "print(calculaP1(750), calculaP(750))"
   ]
  },
  {
   "cell_type": "markdown",
   "metadata": {
    "id": "Aa1wLYrcjfHV"
   },
   "source": [
    "# 2. \n",
    "**(a)** Pesquise a população aproximada atual do Brasil $P_0$ e os dados sobre números de **infectados** com coronavirus no Brasil desde 01 de março de 2020 até agosto de 2020, em intervalos aproximados  de 15 dias (pode usar por exemplo,  este site https://www.worldometers.info/coronavirus/country/brazil/ ).\n",
    "\n",
    "**(b)** Ajuste os dados a um modelo da forma:\n",
    "\t$$y = \\frac{P_0}{1-a_1 e^{-P_0 a_2 x}}$$ onde $P_0$ é uma estimativa da população do Brasil e $a_1, a_2$ são constantes. (**Dica:**  Para passar a um modelo linear calcule $\\frac{y}{y-P_0}$).\n",
    "\n",
    "**(c)** Calcule as projeções do modelo encontrado para os meses setembro, outubro e novembro em intervalos de 15 dias, e compare com os dados reais. Comente suas conclusões sobre  se seu modelo foi aproximado ou não aos valores reais para estes meses.\n"
   ]
  },
  {
   "cell_type": "markdown",
   "metadata": {
    "id": "3k57PES8FsSF"
   },
   "source": [
    "a) Segundo o site https://www.worldometers.info/coronavirus/country/brazil/, separando em intervalos $I_n$ indo de prmeiro de março até agosto, temos que\n",
    "\n",
    "$I_1$ = 2,\n",
    "$I_2$ = 200,\n",
    "$I_3$ = 6880,\n",
    "$I_4$ = 28610\n",
    "$I_5$ = 92109,\n",
    "$I_6$ = 218223,\n",
    "$I_7$ = 529405,\n",
    "$I_8$ = 891556,\n",
    "$I_9$ = 1453369,\n",
    "$I_{10}$ = 1970909,\n",
    "$I_{11}$ = 2708876"
   ]
  },
  {
   "cell_type": "markdown",
   "metadata": {
    "id": "HkJjByGlGlrg"
   },
   "source": [
    "b) Fazendo $\\frac{P_0-y}{y}=z$ vem que $z = a_{1}e^{-a_{2}P_{0}x}$, portanto $\\log{z} = \\log{a_{1}} - a_{2}P_{0}\\log{x}$. "
   ]
  },
  {
   "cell_type": "code",
   "execution_count": null,
   "metadata": {
    "colab": {
     "base_uri": "https://localhost:8080/",
     "height": 592
    },
    "id": "_JSDTPYBH4ov",
    "outputId": "2e361af1-acea-4ad7-b852-25ebd3aaa29d"
   },
   "outputs": [
    {
     "data": {
      "image/png": "[encoded data removed]",
      "text/plain": [
       "<Figure size 432x288 with 1 Axes>"
      ]
     },
     "metadata": {
      "needs_background": "light",
      "tags": []
     },
     "output_type": "display_data"
    },
    {
     "name": "stdout",
     "output_type": "stream",
     "text": [
      "ln(p0 - f(x)) / f(x)):\n",
      "[18.46469762 13.85952649 10.32143796  8.89619632  7.72667606  6.86352738\n",
      "  5.97579954  5.45284634  4.96147173  4.65436446  4.33275461]\n",
      "Gráfico com pontos linearizados\n"
     ]
    },
    {
     "data": {
      "image/png": "[encoded data removed]",
      "text/plain": [
       "<Figure size 432x288 with 1 Axes>"
      ]
     },
     "metadata": {
      "needs_background": "light",
      "tags": []
     },
     "output_type": "display_data"
    }
   ],
   "source": [
    "import matplotlib.pyplot as plt\n",
    "from scipy.linalg import solve\n",
    "import numpy as np\n",
    "p0 = 209000000\n",
    "\n",
    "X = np.array([15, 30, 45, 60, 75, 90, 105, 120, 135, 150, 165])\n",
    "Y = np.array([2, 200, 6880, 28610, 92109, 218223, 529405, 891556, 1453369, 1970909, 2708876])\n",
    "\n",
    "\n",
    "plt.plot(X, Y, \".\")\n",
    "plt.grid()\n",
    "plt.show()\n",
    "\n",
    "z = (p0 - Y) / Y\n",
    "Yr = np.log(z)\n",
    "print(\"ln(p0 - f(x)) / f(x)):\")\n",
    "print (Yr)\n",
    "print(\"Gráfico com pontos linearizados\")\n",
    "Xr = np.log(X)\n",
    "plt.plot(Xr, Yr, \".\")\n",
    "plt.grid()\n",
    "plt.show()"
   ]
  },
  {
   "cell_type": "code",
   "execution_count": null,
   "metadata": {
    "colab": {
     "base_uri": "https://localhost:8080/",
     "height": 316
    },
    "id": "MhTxzDNhIBat",
    "outputId": "355ee598-b601-4423-d91c-88f0609502f2"
   },
   "outputs": [
    {
     "name": "stdout",
     "output_type": "stream",
     "text": [
      "a1, a2:\n",
      "[33.57466098 -5.87453838]\n",
      "Gráfico da reta linearizado\n"
     ]
    },
    {
     "data": {
      "image/png": "[encoded data removed]",
      "text/plain": [
       "<Figure size 432x288 with 1 Axes>"
      ]
     },
     "metadata": {
      "needs_background": "light",
      "tags": []
     },
     "output_type": "display_data"
    }
   ],
   "source": [
    "A = np.array([[len(Xr), np.sum(Xr)],\n",
    "              [np.sum(Xr), np.sum(Xr*Xr) ]])\n",
    "B = np.array([np.sum(Yr), np.sum(Xr*Yr)])\n",
    "\n",
    "#print (A)\n",
    "#print (B)\n",
    "\n",
    "a = solve(A, B)\n",
    "print(\"a1, a2:\")\n",
    "print (a)\n",
    "\n",
    "\n",
    "\n",
    "Xplot = np.linspace(Xr[0], Xr[-1], 100)\n",
    "h = lambda X: a[0] + a[1]*X\n",
    "\n",
    "print(\"Gráfico da reta linearizado\")\n",
    "plt.plot(Xr, Yr, \"r.\", Xplot, h(Xplot), \"-\")\n",
    "plt.grid()\n",
    "plt.show()"
   ]
  },
  {
   "cell_type": "code",
   "execution_count": null,
   "metadata": {
    "colab": {
     "base_uri": "https://localhost:8080/",
     "height": 293
    },
    "id": "by3yeWX8ILbu",
    "outputId": "1dbdcc64-afb1-41e6-ef30-5cd3d10151ff"
   },
   "outputs": [
    {
     "name": "stdout",
     "output_type": "stream",
     "text": [
      "Gráfico da função exponencial\n"
     ]
    },
    {
     "data": {
      "image/png": "[encoded data removed]",
      "text/plain": [
       "<Figure size 432x288 with 1 Axes>"
      ]
     },
     "metadata": {
      "needs_background": "light",
      "tags": []
     },
     "output_type": "display_data"
    }
   ],
   "source": [
    "a1 = - np.exp(a[0]) # que seria o \"a\"\n",
    "a2 = - a[1] / p0\n",
    "g = lambda x: p0/(1-a1*np.exp(-p0*a2*np.log(x))) \n",
    "\n",
    "print(\"Gráfico da função exponencial\")\n",
    "Xproj = np.linspace(15, 210, 100)\n",
    "plt.plot(X, Y, \"r.\", X, g(X))\n",
    "plt.grid()\n",
    "plt.show()"
   ]
  },
  {
   "cell_type": "markdown",
   "metadata": {
    "id": "3BWyRSOPG5vv"
   },
   "source": [
    "c) Fazendo a projeçao dos próximos meses, temos o seguinte gráfico:"
   ]
  },
  {
   "cell_type": "code",
   "execution_count": null,
   "metadata": {
    "colab": {
     "base_uri": "https://localhost:8080/",
     "height": 293
    },
    "id": "gYDpj5MCG_iH",
    "outputId": "1acc74e8-3cb0-47d9-be59-69fea241bf43"
   },
   "outputs": [
    {
     "name": "stdout",
     "output_type": "stream",
     "text": [
      "Gráfico da função exponencial\n"
     ]
    },
    {
     "data": {
      "image/png": "[encoded data removed]",
      "text/plain": [
       "<Figure size 432x288 with 1 Axes>"
      ]
     },
     "metadata": {
      "needs_background": "light",
      "tags": []
     },
     "output_type": "display_data"
    }
   ],
   "source": [
    "print(\"Gráfico da função exponencial\")\n",
    "Xproj = np.linspace(15, 210, 100)\n",
    "plt.plot(X, Y, \"r.\", Xproj, g(Xproj))\n",
    "plt.grid()\n",
    "plt.show()"
   ]
  },
  {
   "cell_type": "markdown",
   "metadata": {
    "id": "XoVwrhMRM4dh"
   },
   "source": [
    "Como podemos ver pela projeçao, os números da curva ultrapassam facilmente os dados obtidos do site para os meses de setembro, outubro e novembro. Entretanto, o modelo é uma aproximaçao muito boa nos meses iniciais. "
   ]
  },
  {
   "cell_type": "markdown",
   "metadata": {
    "id": "ApebIc3gjfHV"
   },
   "source": [
    "# 3.\n",
    "Considere a função \n",
    "$$f(x)=\\frac{3.21}{0.73 + 9.81x^2}$$\n",
    "\n",
    "**a)** Aproxime o valor de $f(1.78)$ usando um polinômio interpolador de grau 3 no intervalo [1, 2] e compare com o valor da função. Mostre o gráfico do polinômio e da função nesse intervalo. \n",
    "\n",
    "**b)** Repita o item anterior, mas dessa vez utilize um polinômio de grau 10 no intervalo [-2,2] e comente o que você observou. \n",
    "\n",
    "**c)** Pesquise e responda o que é \"Fenômeno de Runge\".\n"
   ]
  },
  {
   "cell_type": "markdown",
   "metadata": {
    "id": "AtJpCKcbux6o"
   },
   "source": [
    "###a) Tomaremos os valores de $x\\in\\{1,1+\\dfrac{1}{3},1+\\dfrac{2}{3},2\\}$"
   ]
  },
  {
   "cell_type": "markdown",
   "metadata": {
    "id": "m1ujTGeRB7zv"
   },
   "source": [
    "Observe que gráfico da função que queremos aproximar é:"
   ]
  },
  {
   "cell_type": "code",
   "execution_count": null,
   "metadata": {
    "colab": {
     "base_uri": "https://localhost:8080/",
     "height": 265
    },
    "id": "_DmQe5WLjfHW",
    "outputId": "bd2196e4-0a27-446f-ecb2-6b3daa30405c"
   },
   "outputs": [
    {
     "data": {
      "image/png": "[encoded data removed]",
      "text/plain": [
       "<Figure size 432x288 with 1 Axes>"
      ]
     },
     "metadata": {
      "needs_background": "light",
      "tags": []
     },
     "output_type": "display_data"
    }
   ],
   "source": [
    "f = lambda x: (3.21)/(0.73+9.81*x**2)\n",
    "\n",
    "x = np.linspace(1, 2, num=100)\n",
    "\n",
    "plt.plot( x, f(x),'-')\n",
    "plt.grid()\n",
    "plt.show()"
   ]
  },
  {
   "cell_type": "code",
   "execution_count": null,
   "metadata": {
    "colab": {
     "base_uri": "https://localhost:8080/"
    },
    "id": "hur97Ep7vOv4",
    "outputId": "0fb9d94a-e7c8-4d49-a539-eb4421629847"
   },
   "outputs": [
    {
     "name": "stdout",
     "output_type": "stream",
     "text": [
      "[1.         1.33333333 1.66666667 2.        ]\n",
      "[0.30455408 0.17666483 0.1147248  0.08031023]\n"
     ]
    }
   ],
   "source": [
    "import numpy as np\n",
    "\n",
    "X = np.linspace(1., 2.,num=4)\n",
    "print(X)\n",
    "\n",
    "Y = (3.21)/(0.73+(9.81*(X**2)))\n",
    "print(Y)\n",
    "n = len(Y)\n",
    "\n",
    "def calculaP(x):\n",
    "    valor = 0\n",
    "    for k in range(n):\n",
    "        lk = 1.0\n",
    "        for i in range(n):\n",
    "            if k != i:\n",
    "                lk = lk*(x - X[i])/(X[k]-X[i])\n",
    "        valor = valor + Y[k]*lk \n",
    "    return valor\n",
    "\n",
    "Ynew = []\n",
    "Xnew = np.linspace(X[0], X[-1], num=21)\n",
    "for xnew in Xnew:\n",
    "    ynew = calculaP(xnew)\n",
    "    Ynew.append(ynew)\n",
    "\n"
   ]
  },
  {
   "cell_type": "markdown",
   "metadata": {
    "id": "Ndq6gotgCJFu"
   },
   "source": [
    "Dessa forma o gráfico do polinômio em azul e da função em vermelho fica:"
   ]
  },
  {
   "cell_type": "code",
   "execution_count": null,
   "metadata": {
    "colab": {
     "base_uri": "https://localhost:8080/",
     "height": 282
    },
    "id": "KnwDumlWCIIo",
    "outputId": "414d3305-97e6-4847-9bdf-7c7f0dfda1e2"
   },
   "outputs": [
    {
     "data": {
      "image/png": "[encoded data removed]",
      "text/plain": [
       "<Figure size 432x288 with 1 Axes>"
      ]
     },
     "metadata": {
      "needs_background": "light",
      "tags": []
     },
     "output_type": "display_data"
    },
    {
     "name": "stdout",
     "output_type": "stream",
     "text": [
      "P( 1.78 ) = 0.10186113819231796\n"
     ]
    }
   ],
   "source": [
    "f = lambda x: (3.21)/(0.73+9.81*x**2)\n",
    "plt.plot(X, Y, 'bo', Xnew, Ynew,'-', Xnew, f(Xnew),'r--')\n",
    "plt.grid()\n",
    "plt.show()\n",
    "\n",
    "x = 1.78\n",
    "print (\"P(\",x,\") =\", calculaP(x))"
   ]
  },
  {
   "cell_type": "markdown",
   "metadata": {
    "id": "M0hiRkpjCWoE"
   },
   "source": [
    "Observe que os valores pra $x=1.78$ no polinômio e na função são respectivamente:"
   ]
  },
  {
   "cell_type": "code",
   "execution_count": null,
   "metadata": {
    "colab": {
     "base_uri": "https://localhost:8080/"
    },
    "id": "IT76Z-gQ_cD-",
    "outputId": "c586859a-dc0e-4672-c229-d9fef04176ac"
   },
   "outputs": [
    {
     "name": "stdout",
     "output_type": "stream",
     "text": [
      "0.10186113819231796 0.10090530605993887\n"
     ]
    }
   ],
   "source": [
    "f = lambda x: (3.21)/(0.73+9.81*x**2)\n",
    "print ( calculaP(x), f(x))"
   ]
  },
  {
   "cell_type": "markdown",
   "metadata": {
    "id": "Ug5MeZbVAUSR"
   },
   "source": [
    "###b)\n",
    "\n",
    "Utilizando da mesma construção anterior, agora dividimos o intervalo em 10."
   ]
  },
  {
   "cell_type": "code",
   "execution_count": null,
   "metadata": {
    "colab": {
     "base_uri": "https://localhost:8080/",
     "height": 350
    },
    "id": "E5aSs5t4wqiv",
    "outputId": "4d883814-8b4f-4840-e0c2-e98e7734e705"
   },
   "outputs": [
    {
     "name": "stdout",
     "output_type": "stream",
     "text": [
      "[-2.  -1.6 -1.2 -0.8 -0.4  0.   0.4  0.8  1.2  1.6  2. ]\n",
      "[0.08031023 0.1242087  0.2160685  0.4580218  1.39589494 4.39726027\n",
      " 1.39589494 0.4580218  0.2160685  0.1242087  0.08031023]\n",
      "A representação gráfica do polinômio e da função é:\n"
     ]
    },
    {
     "data": {
      "image/png": "[encoded data removed]",
      "text/plain": [
       "<Figure size 432x288 with 1 Axes>"
      ]
     },
     "metadata": {
      "needs_background": "light",
      "tags": []
     },
     "output_type": "display_data"
    },
    {
     "name": "stdout",
     "output_type": "stream",
     "text": [
      "P( 1.78 ) = 10.598808760629598\n"
     ]
    }
   ],
   "source": [
    "import numpy as np\n",
    "\n",
    "X = np.linspace(-2., 2.,num=11)\n",
    "print(X)\n",
    "\n",
    "Y = (3.21)/(0.73+(9.81*(X**2)))\n",
    "print(Y)\n",
    "n = len(Y)\n",
    "\n",
    "def calculaP(x):\n",
    "    valor = 0\n",
    "    for k in range(n):\n",
    "        lk = 1.0\n",
    "        for i in range(n):\n",
    "            if k != i:\n",
    "                lk = lk*(x - X[i])/(X[k]-X[i])\n",
    "        valor = valor + Y[k]*lk \n",
    "    return valor\n",
    "\n",
    "Ynew = []\n",
    "Xnew = np.linspace(X[0], X[-1], num=100)\n",
    "for xnew in Xnew:\n",
    "    ynew = calculaP(xnew)\n",
    "    Ynew.append(ynew)\n",
    "f = lambda x: (3.21)/(0.73+9.81*x**2)\n",
    "print(\"A representação gráfica do polinômio e da função é:\")\n",
    "plt.plot(X, Y, 'go', Xnew, Ynew,'b-', Xnew, f(Xnew),'r--')\n",
    "plt.grid()\n",
    "plt.show()\n",
    "\n",
    "x = 1.78\n",
    "print (\"P(\",x,\") =\", calculaP(x))\n",
    "\n"
   ]
  },
  {
   "cell_type": "markdown",
   "metadata": {
    "id": "RqnRVEMGCwxp"
   },
   "source": [
    "Observe que os valores pra $x=1.78$ no polinômio e na função são respectivamente:"
   ]
  },
  {
   "cell_type": "code",
   "execution_count": null,
   "metadata": {
    "colab": {
     "base_uri": "https://localhost:8080/"
    },
    "id": "yaUBWSl6_uNj",
    "outputId": "64854fd5-1d91-43db-bbbd-20bdee651a7c"
   },
   "outputs": [
    {
     "name": "stdout",
     "output_type": "stream",
     "text": [
      "10.598808760629598 0.10090530605993887\n"
     ]
    }
   ],
   "source": [
    "f = lambda x: (3.21)/(0.73+9.81*x**2)\n",
    "print ( calculaP(x), f(x))"
   ]
  },
  {
   "cell_type": "markdown",
   "metadata": {
    "id": "fSidxQg3Cyc6"
   },
   "source": [
    "Observe que pôlinomio não é o ideal para aproximar a função no ponto, já que o erro é muito grande entre os valores é grande."
   ]
  },
  {
   "cell_type": "markdown",
   "metadata": {
    "id": "0guHYHAiAWvc"
   },
   "source": [
    "###c) \n",
    "O fenômeno Runge ocorre quando tentamos aproximar uma função por um polinômio de grau relativamente grande. Ao analisarmos pontos próximos aos extremos do intervalo obteremos grandes erros, o que nos justifica que o polinômio não é uma boa aproximação para função próximo a esses pontos , mas para centro do intervalo teremos uma boa aproximação.\n"
   ]
  },
  {
   "cell_type": "markdown",
   "metadata": {
    "id": "6badewLmjfHW"
   },
   "source": [
    "# 4.\n",
    "\n",
    "Considere a função $f(t)=\\frac{4t}{1+10t^2}$.\n",
    "\n",
    "**(a)** Tomando $100$ pontos entre $t=0$ e $t=1$ da forma $(t, f(t))$,    use mínimos quadrados para calcular os polinômios $p_1(t), p_2(t), p_3(t), p_4(t)$, de graus $1,2,3,4$ respetivamente, que melhor se ajustam aos pontos dados.\n",
    "\n",
    "**(b)** Para cada polinômio $p_i(t)$ esboce o gráfico de $p_i(t)$ junto com o gráfico de  $f(t)$.\n",
    "\t\n",
    "**(c)** Calcule o erro médio quadrático (RMS)  em cada polinômio com relação ao dados de (a).   \n",
    "\n"
   ]
  },
  {
   "cell_type": "markdown",
   "metadata": {
    "id": "fX2weWXhtKdE"
   },
   "source": [
    "\n",
    "\n",
    "n=1"
   ]
  },
  {
   "cell_type": "code",
   "execution_count": null,
   "metadata": {
    "colab": {
     "base_uri": "https://localhost:8080/",
     "height": 350
    },
    "id": "ObSPjfp3Vzt7",
    "outputId": "90de0296-c553-4f79-b9db-626152d67966"
   },
   "outputs": [
    {
     "name": "stdout",
     "output_type": "stream",
     "text": [
      "Coeficientes da reta obtidos: \n",
      " [[0.01394084]\n",
      " [0.46959485]]\n",
      "O gráfico de f em vermelho e p_1 em azul\n"
     ]
    },
    {
     "data": {
      "image/png": "[encoded data removed]",
      "text/plain": [
       "<Figure size 432x288 with 1 Axes>"
      ]
     },
     "metadata": {
      "needs_background": "light",
      "tags": []
     },
     "output_type": "display_data"
    },
    {
     "name": "stdout",
     "output_type": "stream",
     "text": [
      "erro quadrático medio: 0.018230154249081584\n"
     ]
    }
   ],
   "source": [
    "import numpy as np\n",
    "import math\n",
    "from scipy.linalg import solve\n",
    "import matplotlib.pyplot as plt\n",
    "\n",
    "f = lambda x: (4*x)/(1+10*(x**2))\n",
    "\n",
    "X = np.linspace(0,1,100)\n",
    "\n",
    "Y = []\n",
    "w = []\n",
    "for i in range(0,100):\n",
    "    fdeX = f(X[i])\n",
    "    Y.append(fdeX)\n",
    "\n",
    "## AJUSTE DE CURVAS LINEAR DISCRETO\n",
    "## A*alpha = b\n",
    "## Calcular os elementos da matriz A:\n",
    "a11 = np.sum(X*X)\n",
    "a12 = np.sum(X)\n",
    "a21 = a12\n",
    "a22 = len(X)\n",
    "\n",
    "## Definir b:\n",
    "b1 = np.sum(X*Y)\n",
    "b2 = np.sum(Y)\n",
    "\n",
    "## Montar o sistema e resolvê-lo:\n",
    "A = np.array([[a11, a12],\n",
    "              [a21, a22]])\n",
    "\n",
    "b = np.array([[b1],\n",
    "              [b2]])\n",
    "\n",
    "alpha = solve(A, b)\n",
    "print('Coeficientes da reta obtidos: \\n', alpha)\n",
    "\n",
    "\n",
    "## Definir função, como o ajuste é linear, a função g(x) que queremos aproximar é do tipo:\n",
    "g = lambda x: alpha[0]*x + alpha[1]\n",
    "\n",
    "## Para plotar o gráfico da função linear g(x) aproximada:\n",
    "Xplot = np.arange(X[0], X[-1] + 1, 1)\n",
    "Yplot = []\n",
    "\n",
    "for x in Xplot:\n",
    "    Yplot.append(g(x))\n",
    "print(\"O gráfico de f em vermelho e p_1 em azul\" )   \n",
    "plt.plot(X, Y, \"r--\", Xplot, Yplot, \"b-\")\n",
    "plt.grid()\n",
    "plt.show()\n",
    "W=[]\n",
    "for j in range(0,100):\n",
    "    H = (g(X[j])-(f(X[j])))**2\n",
    "    W.append(H)\n",
    "S=np.sum(W)\n",
    "print('erro quadrático medio:',0.01*S)"
   ]
  },
  {
   "cell_type": "markdown",
   "metadata": {
    "id": "8Qr-h6LttO79"
   },
   "source": [
    "n=2"
   ]
  },
  {
   "cell_type": "code",
   "execution_count": null,
   "metadata": {
    "colab": {
     "base_uri": "https://localhost:8080/",
     "height": 316
    },
    "id": "s3WusMWVWrwk",
    "outputId": "a3ec1524-2a39-4cba-af2b-2d4e0fc0c506"
   },
   "outputs": [
    {
     "name": "stdout",
     "output_type": "stream",
     "text": [
      "coeficientes do polinômio de grau 2: [-1.47029498  1.48423582  0.22702093]\n",
      "O gráfico de f em vermelho e p_2 em azul\n"
     ]
    },
    {
     "data": {
      "image/png": "[encoded data removed]",
      "text/plain": [
       "<Figure size 432x288 with 1 Axes>"
      ]
     },
     "metadata": {
      "needs_background": "light",
      "tags": []
     },
     "output_type": "display_data"
    },
    {
     "name": "stdout",
     "output_type": "stream",
     "text": [
      "erro quadrático medio: 0.0057339394388645475\n"
     ]
    }
   ],
   "source": [
    "\n",
    "\n",
    "a11 = np.sum(X**4)\n",
    "a12 = np.sum(X**3)\n",
    "a13 = np.sum(X**2)\n",
    "a21 = a12\n",
    "a22 = a13\n",
    "a23 = np.sum(X)\n",
    "a31 = a13\n",
    "a32 = a23\n",
    "a33 = len(X)\n",
    "b1 = np.sum(Y*X**2)\n",
    "b2 = np.sum(Y*X)\n",
    "b3 = np.sum(Y)\n",
    "\n",
    "A = np.array([[a11, a12, a13],\n",
    "              [a21, a22, a23],\n",
    "              [a31, a32, a33]])\n",
    "B = np.array([b1, b2, b3])\n",
    "a = solve(A,B)\n",
    "print('coeficientes do polinômio de grau 2:',a)\n",
    "\n",
    "Xr = np.arange(0,1,0.001)\n",
    "def g(x):\n",
    "    return a[0]*x**2 + a[1]*x + a[2]\n",
    "print(\"O gráfico de f em vermelho e p_2 em azul\" )\n",
    "plt.plot(X, Y, \"r--\", Xr, g(Xr),'b-')\n",
    "plt.grid()\n",
    "plt.show()\n",
    "W=[]\n",
    "for j in range(0,100):\n",
    "    H = (g(X[j])-(f(X[j])))**2\n",
    "    W.append(H)\n",
    "S=np.sum(W)\n",
    "print('erro quadrático medio:',0.01*S)"
   ]
  },
  {
   "cell_type": "markdown",
   "metadata": {
    "id": "X8VE6waxtS0l"
   },
   "source": [
    "n=3"
   ]
  },
  {
   "cell_type": "code",
   "execution_count": null,
   "metadata": {
    "colab": {
     "base_uri": "https://localhost:8080/",
     "height": 316
    },
    "id": "LgL88kGHZJX5",
    "outputId": "3cea017b-006b-4bf0-8856-b5d0df734f90"
   },
   "outputs": [
    {
     "name": "stdout",
     "output_type": "stream",
     "text": [
      "coeficientes do polinômio de grau 3: [ 3.67891546 -6.98866817  3.68051194  0.04861173]\n",
      "O gráfico de f em vermelho e p_3 em azul\n"
     ]
    },
    {
     "data": {
      "image/png": "[encoded data removed]",
      "text/plain": [
       "<Figure size 432x288 with 1 Axes>"
      ]
     },
     "metadata": {
      "needs_background": "light",
      "tags": []
     },
     "output_type": "display_data"
    },
    {
     "name": "stdout",
     "output_type": "stream",
     "text": [
      "erro quadrático medio: 0.0006069527300080064\n"
     ]
    }
   ],
   "source": [
    "\n",
    "\n",
    "a11 = np.sum(X**6)\n",
    "a12 = np.sum(X**5)\n",
    "a13 = np.sum(X**4)\n",
    "a14= np.sum(X**3)\n",
    "a21 = a12\n",
    "a22 = a13\n",
    "a23 = a14\n",
    "a24 = np.sum(X**2)\n",
    "a31 = a13\n",
    "a32 = a23\n",
    "a33 = a24\n",
    "a34 = np.sum(X)\n",
    "a41 = a32\n",
    "a42 = a33\n",
    "a43 = a34\n",
    "a44= len(X)\n",
    "\n",
    "b1=np.sum(Y*(X**3))\n",
    "b2=np.sum(Y*(X**2))\n",
    "b3=np.sum(Y*(X))\n",
    "b4=np.sum(Y)\n",
    "\n",
    "A = np.array([[a11, a12, a13, a14],\n",
    "              [a21, a22, a23, a24],\n",
    "              [a31, a32, a33, a34],\n",
    "              [a41, a42, a43, a44]])\n",
    "B = np.array([b1, b2, b3, b4])\n",
    "a = solve(A,B)\n",
    "print('coeficientes do polinômio de grau 3:',a)\n",
    "\n",
    "Xr = np.arange(0,1,0.001)\n",
    "def g(x):\n",
    "    return a[0]*x**3 + a[1]*x**2 + a[2]*x + a[3]\n",
    "print(\"O gráfico de f em vermelho e p_3 em azul\" )\n",
    "plt.plot(X, Y, \"r--\", Xr, g(Xr),'b-')\n",
    "plt.grid()\n",
    "plt.show()\n",
    "W=[]\n",
    "for j in range(0,100):\n",
    "    H = (g(X[j])-(f(X[j])))**2\n",
    "    W.append(H)\n",
    "S=np.sum(W)\n",
    "print('erro quadrático medio:',0.01*S)"
   ]
  },
  {
   "cell_type": "markdown",
   "metadata": {
    "id": "Pplad2EOtXNu"
   },
   "source": [
    "n=4"
   ]
  },
  {
   "cell_type": "code",
   "execution_count": null,
   "metadata": {
    "colab": {
     "base_uri": "https://localhost:8080/",
     "height": 316
    },
    "id": "NJ1gSA7yiVKK",
    "outputId": "9221552c-5f90-49ec-f79c-b2cd161d3ba7"
   },
   "outputs": [
    {
     "name": "stdout",
     "output_type": "stream",
     "text": [
      "coeficientes do polinômio de grau 4: [ -4.87636264  13.43164074 -13.23752286   5.053004    -0.01690639]\n",
      "O gráfico de f em vermelho e p_4 em azul\n"
     ]
    },
    {
     "data": {
      "image/png": "[encoded data removed]",
      "text/plain": [
       "<Figure size 432x288 with 1 Axes>"
      ]
     },
     "metadata": {
      "needs_background": "light",
      "tags": []
     },
     "output_type": "display_data"
    },
    {
     "name": "stdout",
     "output_type": "stream",
     "text": [
      "erro quadrático medio: 2.4355800825013077e-05\n"
     ]
    }
   ],
   "source": [
    "\n",
    "c11 = np.sum(X**8)\n",
    "c12 = np.sum(X**7)\n",
    "c13 = np.sum(X**6)\n",
    "c14 = np.sum(X**5)\n",
    "c15 = np.sum(X**4)\n",
    "c21 = c12\n",
    "c22 = c13\n",
    "c23 = c14\n",
    "c24 = c15\n",
    "c25 = np.sum(X**3)\n",
    "c31 = c22\n",
    "c32 = c23\n",
    "c33 = c24\n",
    "c34 = c25\n",
    "c35 = np.sum(X**2)\n",
    "c41 = c32\n",
    "c42 = c33\n",
    "c43 = c34\n",
    "c44 = c35\n",
    "c45 = np.sum(X)\n",
    "c51 = c42\n",
    "c52 = c43\n",
    "c53 = c44\n",
    "c54 = c45\n",
    "c55 = len(X)\n",
    "\n",
    "d1 = np.sum(Y*(X**4))\n",
    "d2 = np.sum(Y*(X**3))\n",
    "d3 = np.sum(Y*(X**2))\n",
    "d4 = np.sum(Y*(X))\n",
    "d5 = np.sum(Y)\n",
    "\n",
    "C = np.array([[c11, c12, c13, c14, c15],\n",
    "              [c21, c22, c23, c24, c25],\n",
    "              [c31, c32, c33, c34, c35],\n",
    "              [c41, c42, c43, c44, c45],\n",
    "              [c51, c52, c53, c54, c55]])\n",
    "D = np.array([d1, d2, d3, d4, d5])\n",
    "d = solve(C,D)\n",
    "print('coeficientes do polinômio de grau 4:',d)\n",
    "\n",
    "Xr = np.arange(0,1,0.001)\n",
    "def r(x):\n",
    "    return d[0]*x**4 + d[1]*x**3 + d[2]*x**2 + d[3]*x+ d[4]\n",
    "print(\"O gráfico de f em vermelho e p_4 em azul\" )\n",
    "plt.plot( Xr, r(Xr),'b-',X, Y, \"r--\")\n",
    "plt.grid()\n",
    "plt.show()\n",
    "W=[]\n",
    "for j in range(0,100):\n",
    "    H = (r(X[j])-(f(X[j])))**2\n",
    "    W.append(H)\n",
    "S=np.sum(W)\n",
    "print('erro quadrático medio:',0.01*S)"
   ]
  },
  {
   "cell_type": "markdown",
   "metadata": {
    "id": "MyJTT4jewhts"
   },
   "source": [
    "Observe que o polinômio de grau 4 é o que melhor aproxima função."
   ]
  },
  {
   "cell_type": "markdown",
   "metadata": {
    "id": "30Q4sDhgjfHW"
   },
   "source": [
    "# 5.\n",
    "Encontre a função do tipo $g(x)=a_1x + a_2 sen(x)$ que melhor se ajusta aos pontos tabelados abaixo. Faça o gráfico da função obtida juntamente com os pontos para visualizar o resultado.\n",
    "\n",
    "\\begin{array}{|l|l|l|l|l|l|l|l|l|l|}\n",
    "\t\t\\hline\n",
    "\t\tx_i    &0.01     &0.99      &2.02      &3.01     &3.97      &5.01      &5.93     &6.99     &8.08 \\\\ \\hline\n",
    "\t\tf(x_i) &0.000 &1.621  &1.782  &0.915 &-0.122 &-0.225 &1.093 &2.748 &3.534\\\\ \\hline\n",
    "\t\\end{array}\n"
   ]
  },
  {
   "cell_type": "markdown",
   "metadata": {
    "id": "KZPfrIgNIn6_"
   },
   "source": [
    "Observe que teremos a seguinte dispersão dos pontos:"
   ]
  },
  {
   "cell_type": "code",
   "execution_count": null,
   "metadata": {
    "colab": {
     "base_uri": "https://localhost:8080/",
     "height": 265
    },
    "id": "_jXJiy_umUnS",
    "outputId": "c4a0635d-c897-4c9c-d8df-eeee3fa91a8a"
   },
   "outputs": [
    {
     "data": {
      "image/png": "[encoded data removed]",
      "text/plain": [
       "<Figure size 432x288 with 1 Axes>"
      ]
     },
     "metadata": {
      "needs_background": "light",
      "tags": []
     },
     "output_type": "display_data"
    }
   ],
   "source": [
    "import numpy as np\n",
    "import matplotlib.pyplot as plt\n",
    "\n",
    "X = np.array([0.01, 0.99, 2.02, 3.01, 3.97, 5.01, 5.93, 6.99, 8.08])\n",
    "Y = np.array([0.0, 1.621, 1.782, 0.915, -0.122,-0.225, 1.093, 2.748, 3.534])\n",
    "\n",
    "\n",
    "plt.plot(X, Y, \"o\") \n",
    "plt.grid()\n",
    "plt.show()"
   ]
  },
  {
   "cell_type": "code",
   "execution_count": null,
   "metadata": {
    "colab": {
     "base_uri": "https://localhost:8080/"
    },
    "id": "_vRBa57lm1Kf",
    "outputId": "319917a5-0374-4fc4-9a7d-3e5b8c950c16"
   },
   "outputs": [
    {
     "name": "stdout",
     "output_type": "stream",
     "text": [
      "[0.01 0.99 2.02 3.01 3.97 5.01 5.93 6.99 8.08]\n",
      "204.29309999999998 5.690032772910694 4.47581088342997\n",
      "60.591719999999995 8.236130780231512\n"
     ]
    }
   ],
   "source": [
    "from scipy.linalg import solve\n",
    "\n",
    "# Calcula os elementos das marizes\n",
    "g1 = lambda X: X\n",
    "g2 = lambda X: np.sin(X)\n",
    "\n",
    "print (g1(X))\n",
    "a11 = np.sum(np.multiply(g1(X),g1(X)))\n",
    "a12 = np.sum(np.multiply(g1(X),g2(X)))\n",
    "a21 = a12\n",
    "a22 = np.sum(np.multiply(g2(X),g2(X)))\n",
    "\n",
    "print (a11, a12, a22)\n",
    "\n",
    "b1 = np.sum(np.multiply(Y,g1(X)))\n",
    "b2 = np.sum(np.multiply(Y,g2(X)))\n",
    "\n",
    "print (b1,b2)\n",
    "\n",
    "\n"
   ]
  },
  {
   "cell_type": "code",
   "execution_count": null,
   "metadata": {
    "colab": {
     "base_uri": "https://localhost:8080/"
    },
    "id": "nA7LrWofnpB8",
    "outputId": "5cfaaf99-2fd6-4ed3-d124-d2b8eb41b02f"
   },
   "outputs": [
    {
     "name": "stdout",
     "output_type": "stream",
     "text": [
      "Os valores para a1 e a2 que aparecem na função são  [0.25434583 1.51679659] ,respectivamente.\n"
     ]
    }
   ],
   "source": [
    "A = np.array([[a11, a12],\n",
    "              [a21, a22]])\n",
    "\n",
    "B = np.array([b1,b2])\n",
    "\n",
    "a = solve(A, B)\n",
    "print (\"Os valores para a1 e a2 que aparecem na função são \",a, \",respectivamente.\")\n",
    "\n"
   ]
  },
  {
   "cell_type": "markdown",
   "metadata": {
    "id": "1vZMeSfZItzj"
   },
   "source": [
    "Portanto $g(x)=0.25434583x+1.51679659 \\ sin(x)$"
   ]
  },
  {
   "cell_type": "markdown",
   "metadata": {
    "id": "91YHWYEIJEPC"
   },
   "source": [
    "A gráfico de $g(x)$ é:"
   ]
  },
  {
   "cell_type": "code",
   "execution_count": null,
   "metadata": {
    "colab": {
     "base_uri": "https://localhost:8080/",
     "height": 265
    },
    "id": "hiVh__UanVOH",
    "outputId": "7fb52a40-9b8e-4803-ce26-60a1479d6477"
   },
   "outputs": [
    {
     "data": {
      "image/png": "[encoded data removed]",
      "text/plain": [
       "<Figure size 432x288 with 1 Axes>"
      ]
     },
     "metadata": {
      "needs_background": "light",
      "tags": []
     },
     "output_type": "display_data"
    }
   ],
   "source": [
    "g = lambda X: a[0]*g1(X)+a[1]*g2(X)\n",
    "\n",
    "Xr = np.arange(X[0], X[-1], 0.1)\n",
    "Yr = g(Xr)   \n",
    "\n",
    "\n",
    "plt.plot(X, Y, \"ro\", Xr, Yr, \"-\") \n",
    "plt.grid()\n",
    "plt.show()"
   ]
  },
  {
   "cell_type": "markdown",
   "metadata": {
    "id": "BLTFqjCiJMdA"
   },
   "source": [
    "Observe que é uma boa aproximação para os pontos dados."
   ]
  }
 ],
 "metadata": {
  "colab": {
   "collapsed_sections": [],
   "name": "T3_modelo.ipynb",
   "provenance": []
  },
  "kernelspec": {
   "display_name": "Python 3",
   "language": "python",
   "name": "python3"
  },
  "language_info": {
   "codemirror_mode": {
    "name": "ipython",
    "version": 3
   },
   "file_extension": ".py",
   "mimetype": "text/x-python",
   "name": "python",
   "nbconvert_exporter": "python",
   "pygments_lexer": "ipython3",
   "version": "3.8.8"
  }
 },
 "nbformat": 4,
 "nbformat_minor": 1
}
